{
 "cells": [
  {
   "cell_type": "markdown",
   "metadata": {
    "toc": true
   },
   "source": [
    "<h1>Table of Contents<span class=\"tocSkip\"></span></h1>\n",
    "<div class=\"toc\"><ul class=\"toc-item\"><li><span><a href=\"#Exploratory-data-analysis-(EDA)\" data-toc-modified-id=\"Exploratory-data-analysis-(EDA)-1\"><span class=\"toc-item-num\">1&nbsp;&nbsp;</span>Exploratory data analysis (EDA)</a></span><ul class=\"toc-item\"><li><span><a href=\"#Read-and-overview-CSV-data\" data-toc-modified-id=\"Read-and-overview-CSV-data-1.1\"><span class=\"toc-item-num\">1.1&nbsp;&nbsp;</span>Read and overview CSV data</a></span></li><li><span><a href=\"#Clean-the-data\" data-toc-modified-id=\"Clean-the-data-1.2\"><span class=\"toc-item-num\">1.2&nbsp;&nbsp;</span>Clean the data</a></span><ul class=\"toc-item\"><li><span><a href=\"#Dealing-with-dates\" data-toc-modified-id=\"Dealing-with-dates-1.2.1\"><span class=\"toc-item-num\">1.2.1&nbsp;&nbsp;</span>Dealing with dates</a></span></li><li><span><a href=\"#Dealing-with-prices\" data-toc-modified-id=\"Dealing-with-prices-1.2.2\"><span class=\"toc-item-num\">1.2.2&nbsp;&nbsp;</span>Dealing with prices</a></span></li><li><span><a href=\"#Dealing-with-weights\" data-toc-modified-id=\"Dealing-with-weights-1.2.3\"><span class=\"toc-item-num\">1.2.3&nbsp;&nbsp;</span>Dealing with weights</a></span></li><li><span><a href=\"#Dealing-with-menu-types\" data-toc-modified-id=\"Dealing-with-menu-types-1.2.4\"><span class=\"toc-item-num\">1.2.4&nbsp;&nbsp;</span>Dealing with menu types</a></span><ul class=\"toc-item\"><li><span><a href=\"#Вторые-блюда\" data-toc-modified-id=\"Вторые-блюда-1.2.4.1\"><span class=\"toc-item-num\">1.2.4.1&nbsp;&nbsp;</span>Вторые блюда</a></span></li><li><span><a href=\"#Гарниры\" data-toc-modified-id=\"Гарниры-1.2.4.2\"><span class=\"toc-item-num\">1.2.4.2&nbsp;&nbsp;</span>Гарниры</a></span></li></ul></li></ul></li></ul></li></ul></div>"
   ]
  },
  {
   "cell_type": "markdown",
   "metadata": {},
   "source": [
    "# Exploratory data analysis (EDA)"
   ]
  },
  {
   "cell_type": "code",
   "execution_count": 3,
   "metadata": {},
   "outputs": [
    {
     "name": "stdout",
     "output_type": "stream",
     "text": [
      "The autoreload extension is already loaded. To reload it, use:\n",
      "  %reload_ext autoreload\n"
     ]
    }
   ],
   "source": [
    "%load_ext autoreload\n",
    "%autoreload 2\n",
    "\n",
    "%matplotlib inline"
   ]
  },
  {
   "cell_type": "code",
   "execution_count": 4,
   "metadata": {},
   "outputs": [],
   "source": [
    "import pandas as pd\n",
    "import numpy as np\n",
    "\n",
    "from matplotlib import pyplot as plt"
   ]
  },
  {
   "cell_type": "code",
   "execution_count": 5,
   "metadata": {},
   "outputs": [],
   "source": [
    "import helpers.postprocessor as pr"
   ]
  },
  {
   "cell_type": "code",
   "execution_count": 6,
   "metadata": {},
   "outputs": [],
   "source": [
    "from datetime import datetime\n",
    "import re"
   ]
  },
  {
   "cell_type": "markdown",
   "metadata": {},
   "source": [
    "## Read and overview CSV data"
   ]
  },
  {
   "cell_type": "code",
   "execution_count": 7,
   "metadata": {},
   "outputs": [],
   "source": [
    "PATH = './data/raw_menu_data.csv'"
   ]
  },
  {
   "cell_type": "code",
   "execution_count": 8,
   "metadata": {},
   "outputs": [],
   "source": [
    "df = pd.read_csv(PATH)"
   ]
  },
  {
   "cell_type": "code",
   "execution_count": 9,
   "metadata": {},
   "outputs": [
    {
     "data": {
      "text/plain": [
       "(16427, 8)"
      ]
     },
     "execution_count": 9,
     "metadata": {},
     "output_type": "execute_result"
    }
   ],
   "source": [
    "df.shape"
   ]
  },
  {
   "cell_type": "code",
   "execution_count": 10,
   "metadata": {},
   "outputs": [
    {
     "data": {
      "text/plain": [
       "Food      object\n",
       "Weight    object\n",
       "Price     object\n",
       "Type      object\n",
       "Key       object\n",
       "Date      object\n",
       "File      object\n",
       "SHA1      object\n",
       "dtype: object"
      ]
     },
     "execution_count": 10,
     "metadata": {},
     "output_type": "execute_result"
    }
   ],
   "source": [
    "df.dtypes"
   ]
  },
  {
   "cell_type": "markdown",
   "metadata": {},
   "source": [
    "The `SHA1` column is needed only for checking if an Excel file was processed already. We don't need this column here."
   ]
  },
  {
   "cell_type": "code",
   "execution_count": 11,
   "metadata": {},
   "outputs": [],
   "source": [
    "df.drop(columns=['SHA1'], inplace=True)"
   ]
  },
  {
   "cell_type": "code",
   "execution_count": 12,
   "metadata": {},
   "outputs": [
    {
     "data": {
      "text/html": [
       "<div>\n",
       "<style scoped>\n",
       "    .dataframe tbody tr th:only-of-type {\n",
       "        vertical-align: middle;\n",
       "    }\n",
       "\n",
       "    .dataframe tbody tr th {\n",
       "        vertical-align: top;\n",
       "    }\n",
       "\n",
       "    .dataframe thead th {\n",
       "        text-align: right;\n",
       "    }\n",
       "</style>\n",
       "<table border=\"1\" class=\"dataframe\">\n",
       "  <thead>\n",
       "    <tr style=\"text-align: right;\">\n",
       "      <th></th>\n",
       "      <th>Food</th>\n",
       "      <th>Weight</th>\n",
       "      <th>Price</th>\n",
       "      <th>Type</th>\n",
       "      <th>Key</th>\n",
       "      <th>Date</th>\n",
       "      <th>File</th>\n",
       "    </tr>\n",
       "  </thead>\n",
       "  <tbody>\n",
       "    <tr>\n",
       "      <th>0</th>\n",
       "      <td>Салат из капусты с яблоком</td>\n",
       "      <td>100</td>\n",
       "      <td>86 коп</td>\n",
       "      <td>NaN</td>\n",
       "      <td>14.01.2019</td>\n",
       "      <td>2019-01-14</td>\n",
       "      <td>Меню 14 января.xls</td>\n",
       "    </tr>\n",
       "    <tr>\n",
       "      <th>1</th>\n",
       "      <td>Салат \"Варя гуцульская\"</td>\n",
       "      <td>100</td>\n",
       "      <td>1 руб 50 коп</td>\n",
       "      <td>NaN</td>\n",
       "      <td>14.01.2019</td>\n",
       "      <td>2019-01-14</td>\n",
       "      <td>Меню 14 января.xls</td>\n",
       "    </tr>\n",
       "    <tr>\n",
       "      <th>2</th>\n",
       "      <td>Салат\"Английский\"</td>\n",
       "      <td>100</td>\n",
       "      <td>1 руб 82 коп</td>\n",
       "      <td>NaN</td>\n",
       "      <td>14.01.2019</td>\n",
       "      <td>2019-01-14</td>\n",
       "      <td>Меню 14 января.xls</td>\n",
       "    </tr>\n",
       "    <tr>\n",
       "      <th>3</th>\n",
       "      <td>Суп-харчо</td>\n",
       "      <td>250</td>\n",
       "      <td>2 руб 05 коп</td>\n",
       "      <td>Супы</td>\n",
       "      <td>14.01.2019</td>\n",
       "      <td>2019-01-14</td>\n",
       "      <td>Меню 14 января.xls</td>\n",
       "    </tr>\n",
       "    <tr>\n",
       "      <th>4</th>\n",
       "      <td>Суп картофельный с фасолью и курицей</td>\n",
       "      <td>250</td>\n",
       "      <td>1 руб 58 коп</td>\n",
       "      <td>Супы</td>\n",
       "      <td>14.01.2019</td>\n",
       "      <td>2019-01-14</td>\n",
       "      <td>Меню 14 января.xls</td>\n",
       "    </tr>\n",
       "  </tbody>\n",
       "</table>\n",
       "</div>"
      ],
      "text/plain": [
       "                                   Food Weight         Price  Type  \\\n",
       "0            Салат из капусты с яблоком    100        86 коп   NaN   \n",
       "1               Салат \"Варя гуцульская\"    100  1 руб 50 коп   NaN   \n",
       "2                     Салат\"Английский\"    100  1 руб 82 коп   NaN   \n",
       "3                             Суп-харчо    250  2 руб 05 коп  Супы   \n",
       "4  Суп картофельный с фасолью и курицей    250  1 руб 58 коп  Супы   \n",
       "\n",
       "          Key        Date                File  \n",
       "0  14.01.2019  2019-01-14  Меню 14 января.xls  \n",
       "1  14.01.2019  2019-01-14  Меню 14 января.xls  \n",
       "2  14.01.2019  2019-01-14  Меню 14 января.xls  \n",
       "3  14.01.2019  2019-01-14  Меню 14 января.xls  \n",
       "4  14.01.2019  2019-01-14  Меню 14 января.xls  "
      ]
     },
     "execution_count": 12,
     "metadata": {},
     "output_type": "execute_result"
    }
   ],
   "source": [
    "df.head()"
   ]
  },
  {
   "cell_type": "markdown",
   "metadata": {},
   "source": [
    "`Key` are from tabs' names in Excel files, `Date` values are taken from menu titles (first row of a tab). They should represent same dates."
   ]
  },
  {
   "cell_type": "markdown",
   "metadata": {},
   "source": [
    "## Clean the data\n",
    "\n",
    "Process data in the data frame so it is possible to use them for visualizations and summary statistics. Now all fields in the data frame are in text format."
   ]
  },
  {
   "cell_type": "markdown",
   "metadata": {},
   "source": [
    "### Dealing with dates"
   ]
  },
  {
   "cell_type": "code",
   "execution_count": 13,
   "metadata": {},
   "outputs": [
    {
     "data": {
      "text/plain": [
       "0    14.01.2019\n",
       "1    14.01.2019\n",
       "2    14.01.2019\n",
       "Name: Key, dtype: object"
      ]
     },
     "execution_count": 13,
     "metadata": {},
     "output_type": "execute_result"
    }
   ],
   "source": [
    "df['Key'][:3]"
   ]
  },
  {
   "cell_type": "code",
   "execution_count": 14,
   "metadata": {},
   "outputs": [
    {
     "data": {
      "text/plain": [
       "0     2019-01-14\n",
       "1     2019-01-14\n",
       "2     2019-01-14\n",
       "3     2019-01-14\n",
       "4     2019-01-14\n",
       "         ...    \n",
       "495   2018-04-03\n",
       "496   2018-04-03\n",
       "497   2018-04-03\n",
       "498   2018-04-03\n",
       "499   2018-04-03\n",
       "Name: Key, Length: 500, dtype: datetime64[ns]"
      ]
     },
     "execution_count": 14,
     "metadata": {},
     "output_type": "execute_result"
    }
   ],
   "source": [
    "pd.to_datetime(df['Key'].head(500), format='%d.%m.%Y')"
   ]
  },
  {
   "cell_type": "code",
   "execution_count": 15,
   "metadata": {},
   "outputs": [
    {
     "data": {
      "text/plain": [
       "(0, 173)"
      ]
     },
     "execution_count": 15,
     "metadata": {},
     "output_type": "execute_result"
    }
   ],
   "source": [
    "sum(df.Key.isna()), sum(df.Date.isna())"
   ]
  },
  {
   "cell_type": "markdown",
   "metadata": {},
   "source": [
    "Some dates are empty. This is becase different menu formatting: a name came in the first row, it did not contain a date"
   ]
  },
  {
   "cell_type": "code",
   "execution_count": 16,
   "metadata": {},
   "outputs": [
    {
     "data": {
      "text/html": [
       "<div>\n",
       "<style scoped>\n",
       "    .dataframe tbody tr th:only-of-type {\n",
       "        vertical-align: middle;\n",
       "    }\n",
       "\n",
       "    .dataframe tbody tr th {\n",
       "        vertical-align: top;\n",
       "    }\n",
       "\n",
       "    .dataframe thead th {\n",
       "        text-align: right;\n",
       "    }\n",
       "</style>\n",
       "<table border=\"1\" class=\"dataframe\">\n",
       "  <thead>\n",
       "    <tr style=\"text-align: right;\">\n",
       "      <th></th>\n",
       "      <th>Food</th>\n",
       "      <th>Weight</th>\n",
       "      <th>Price</th>\n",
       "      <th>Type</th>\n",
       "      <th>Key</th>\n",
       "      <th>Date</th>\n",
       "      <th>File</th>\n",
       "    </tr>\n",
       "  </thead>\n",
       "  <tbody>\n",
       "    <tr>\n",
       "      <th>2742</th>\n",
       "      <td>Огурец , помидор свежий</td>\n",
       "      <td>50/50</td>\n",
       "      <td>1 руб 34 коп</td>\n",
       "      <td>Обеденное меню 09.04.2018г. Приятного аппетита!</td>\n",
       "      <td>09.04.2018</td>\n",
       "      <td>NaN</td>\n",
       "      <td>Меню с 09.04 по 14.04.2018г..xls</td>\n",
       "    </tr>\n",
       "    <tr>\n",
       "      <th>2743</th>\n",
       "      <td>Винегрет с сельдью</td>\n",
       "      <td>100</td>\n",
       "      <td>1 руб 33 коп</td>\n",
       "      <td>Обеденное меню 09.04.2018г. Приятного аппетита!</td>\n",
       "      <td>09.04.2018</td>\n",
       "      <td>NaN</td>\n",
       "      <td>Меню с 09.04 по 14.04.2018г..xls</td>\n",
       "    </tr>\n",
       "    <tr>\n",
       "      <th>2744</th>\n",
       "      <td>Салат из морской и белокочанной капусты</td>\n",
       "      <td>100</td>\n",
       "      <td>71 коп</td>\n",
       "      <td>Обеденное меню 09.04.2018г. Приятного аппетита!</td>\n",
       "      <td>09.04.2018</td>\n",
       "      <td>NaN</td>\n",
       "      <td>Меню с 09.04 по 14.04.2018г..xls</td>\n",
       "    </tr>\n",
       "    <tr>\n",
       "      <th>2745</th>\n",
       "      <td>Салат из птицы с яблоками</td>\n",
       "      <td>100</td>\n",
       "      <td>1 руб 79 коп</td>\n",
       "      <td>Обеденное меню 09.04.2018г. Приятного аппетита!</td>\n",
       "      <td>09.04.2018</td>\n",
       "      <td>NaN</td>\n",
       "      <td>Меню с 09.04 по 14.04.2018г..xls</td>\n",
       "    </tr>\n",
       "    <tr>\n",
       "      <th>2746</th>\n",
       "      <td>Салат \" Днепровский\"</td>\n",
       "      <td>100</td>\n",
       "      <td>2 руб 90 коп</td>\n",
       "      <td>Обеденное меню 09.04.2018г. Приятного аппетита!</td>\n",
       "      <td>09.04.2018</td>\n",
       "      <td>NaN</td>\n",
       "      <td>Меню с 09.04 по 14.04.2018г..xls</td>\n",
       "    </tr>\n",
       "    <tr>\n",
       "      <th>...</th>\n",
       "      <td>...</td>\n",
       "      <td>...</td>\n",
       "      <td>...</td>\n",
       "      <td>...</td>\n",
       "      <td>...</td>\n",
       "      <td>...</td>\n",
       "      <td>...</td>\n",
       "    </tr>\n",
       "    <tr>\n",
       "      <th>10435</th>\n",
       "      <td>Хлеб \"Чиабатта\"</td>\n",
       "      <td>шт.</td>\n",
       "      <td>1 руб 15 коп</td>\n",
       "      <td>Хлеб, хлебобулочные изделия</td>\n",
       "      <td>28.04.2018</td>\n",
       "      <td>NaN</td>\n",
       "      <td>Меню с 23-28 апреля.xls</td>\n",
       "    </tr>\n",
       "    <tr>\n",
       "      <th>10436</th>\n",
       "      <td>Хлеб</td>\n",
       "      <td>2кусочек</td>\n",
       "      <td>18 коп</td>\n",
       "      <td>Хлеб, хлебобулочные изделия</td>\n",
       "      <td>28.04.2018</td>\n",
       "      <td>NaN</td>\n",
       "      <td>Меню с 23-28 апреля.xls</td>\n",
       "    </tr>\n",
       "    <tr>\n",
       "      <th>10437</th>\n",
       "      <td>Французская булочка с чесночной начиной</td>\n",
       "      <td>шт.</td>\n",
       "      <td>70 коп</td>\n",
       "      <td>Хлеб, хлебобулочные изделия</td>\n",
       "      <td>28.04.2018</td>\n",
       "      <td>NaN</td>\n",
       "      <td>Меню с 23-28 апреля.xls</td>\n",
       "    </tr>\n",
       "    <tr>\n",
       "      <th>10438</th>\n",
       "      <td>Хлеб \"Чиабатта\"</td>\n",
       "      <td>шт.</td>\n",
       "      <td>1 руб 15 коп</td>\n",
       "      <td>Хлеб, хлебобулочные изделия</td>\n",
       "      <td>28.04.2018</td>\n",
       "      <td>NaN</td>\n",
       "      <td>Меню с 23-28 апреля.xls</td>\n",
       "    </tr>\n",
       "    <tr>\n",
       "      <th>10439</th>\n",
       "      <td>Хлеб</td>\n",
       "      <td>2кусочек</td>\n",
       "      <td>18 коп</td>\n",
       "      <td>Хлеб, хлебобулочные изделия</td>\n",
       "      <td>28.04.2018</td>\n",
       "      <td>NaN</td>\n",
       "      <td>Меню с 23-28 апреля.xls</td>\n",
       "    </tr>\n",
       "  </tbody>\n",
       "</table>\n",
       "<p>173 rows × 7 columns</p>\n",
       "</div>"
      ],
      "text/plain": [
       "                                          Food    Weight         Price  \\\n",
       "2742                   Огурец , помидор свежий     50/50  1 руб 34 коп   \n",
       "2743                        Винегрет с сельдью       100  1 руб 33 коп   \n",
       "2744   Салат из морской и белокочанной капусты       100        71 коп   \n",
       "2745                 Салат из птицы с яблоками       100  1 руб 79 коп   \n",
       "2746                     Салат \" Днепровский\"        100  2 руб 90 коп   \n",
       "...                                        ...       ...           ...   \n",
       "10435                          Хлеб \"Чиабатта\"       шт.  1 руб 15 коп   \n",
       "10436                                     Хлеб  2кусочек        18 коп   \n",
       "10437  Французская булочка с чесночной начиной       шт.        70 коп   \n",
       "10438                          Хлеб \"Чиабатта\"       шт.  1 руб 15 коп   \n",
       "10439                                     Хлеб  2кусочек        18 коп   \n",
       "\n",
       "                                                  Type          Key Date  \\\n",
       "2742   Обеденное меню 09.04.2018г. Приятного аппетита!   09.04.2018  NaN   \n",
       "2743   Обеденное меню 09.04.2018г. Приятного аппетита!   09.04.2018  NaN   \n",
       "2744   Обеденное меню 09.04.2018г. Приятного аппетита!   09.04.2018  NaN   \n",
       "2745   Обеденное меню 09.04.2018г. Приятного аппетита!   09.04.2018  NaN   \n",
       "2746   Обеденное меню 09.04.2018г. Приятного аппетита!   09.04.2018  NaN   \n",
       "...                                                ...          ...  ...   \n",
       "10435                      Хлеб, хлебобулочные изделия  28.04.2018   NaN   \n",
       "10436                      Хлеб, хлебобулочные изделия  28.04.2018   NaN   \n",
       "10437                      Хлеб, хлебобулочные изделия  28.04.2018   NaN   \n",
       "10438                      Хлеб, хлебобулочные изделия  28.04.2018   NaN   \n",
       "10439                      Хлеб, хлебобулочные изделия  28.04.2018   NaN   \n",
       "\n",
       "                                   File  \n",
       "2742   Меню с 09.04 по 14.04.2018г..xls  \n",
       "2743   Меню с 09.04 по 14.04.2018г..xls  \n",
       "2744   Меню с 09.04 по 14.04.2018г..xls  \n",
       "2745   Меню с 09.04 по 14.04.2018г..xls  \n",
       "2746   Меню с 09.04 по 14.04.2018г..xls  \n",
       "...                                 ...  \n",
       "10435           Меню с 23-28 апреля.xls  \n",
       "10436           Меню с 23-28 апреля.xls  \n",
       "10437           Меню с 23-28 апреля.xls  \n",
       "10438           Меню с 23-28 апреля.xls  \n",
       "10439           Меню с 23-28 апреля.xls  \n",
       "\n",
       "[173 rows x 7 columns]"
      ]
     },
     "execution_count": 16,
     "metadata": {},
     "output_type": "execute_result"
    }
   ],
   "source": [
    "df[df['Date'].isna()]"
   ]
  },
  {
   "cell_type": "markdown",
   "metadata": {},
   "source": [
    "For the missed values we can take corresponing values of the `Key` column."
   ]
  },
  {
   "cell_type": "markdown",
   "metadata": {},
   "source": [
    "Are all dates in the same format?"
   ]
  },
  {
   "cell_type": "code",
   "execution_count": 17,
   "metadata": {},
   "outputs": [
    {
     "data": {
      "text/plain": [
       "10    14409\n",
       "11     1993\n",
       "9        25\n",
       "Name: Key, dtype: int64"
      ]
     },
     "execution_count": 17,
     "metadata": {},
     "output_type": "execute_result"
    }
   ],
   "source": [
    "df['Key'].str.len().value_counts()"
   ]
  },
  {
   "cell_type": "code",
   "execution_count": 18,
   "metadata": {},
   "outputs": [
    {
     "data": {
      "text/html": [
       "<div>\n",
       "<style scoped>\n",
       "    .dataframe tbody tr th:only-of-type {\n",
       "        vertical-align: middle;\n",
       "    }\n",
       "\n",
       "    .dataframe tbody tr th {\n",
       "        vertical-align: top;\n",
       "    }\n",
       "\n",
       "    .dataframe thead th {\n",
       "        text-align: right;\n",
       "    }\n",
       "</style>\n",
       "<table border=\"1\" class=\"dataframe\">\n",
       "  <thead>\n",
       "    <tr style=\"text-align: right;\">\n",
       "      <th></th>\n",
       "      <th>Food</th>\n",
       "      <th>Weight</th>\n",
       "      <th>Price</th>\n",
       "      <th>Type</th>\n",
       "      <th>Key</th>\n",
       "      <th>Date</th>\n",
       "      <th>File</th>\n",
       "    </tr>\n",
       "  </thead>\n",
       "  <tbody>\n",
       "    <tr>\n",
       "      <th>879</th>\n",
       "      <td>Салат с крабовыми палочками и кукурузой</td>\n",
       "      <td>100</td>\n",
       "      <td>1 руб 14 коп</td>\n",
       "      <td>NaN</td>\n",
       "      <td>06.08.2018</td>\n",
       "      <td>2018-09-06</td>\n",
       "      <td>Меню с 03-07 сентября.xls</td>\n",
       "    </tr>\n",
       "    <tr>\n",
       "      <th>880</th>\n",
       "      <td>Салат из помидоров,капусты и сладкого перца</td>\n",
       "      <td>100</td>\n",
       "      <td>1 руб 26 коп</td>\n",
       "      <td>NaN</td>\n",
       "      <td>06.08.2018</td>\n",
       "      <td>2018-09-06</td>\n",
       "      <td>Меню с 03-07 сентября.xls</td>\n",
       "    </tr>\n",
       "    <tr>\n",
       "      <th>881</th>\n",
       "      <td>Яйца фаршированные грибами</td>\n",
       "      <td>1шт/70</td>\n",
       "      <td>1 руб 27 коп</td>\n",
       "      <td>NaN</td>\n",
       "      <td>06.08.2018</td>\n",
       "      <td>2018-09-06</td>\n",
       "      <td>Меню с 03-07 сентября.xls</td>\n",
       "    </tr>\n",
       "    <tr>\n",
       "      <th>882</th>\n",
       "      <td>Салат\"Полесский\"</td>\n",
       "      <td>100</td>\n",
       "      <td>1 руб 98 коп</td>\n",
       "      <td>NaN</td>\n",
       "      <td>06.08.2018</td>\n",
       "      <td>2018-09-06</td>\n",
       "      <td>Меню с 03-07 сентября.xls</td>\n",
       "    </tr>\n",
       "    <tr>\n",
       "      <th>883</th>\n",
       "      <td>Салат из свежих огурцов</td>\n",
       "      <td>100</td>\n",
       "      <td>80 коп</td>\n",
       "      <td>NaN</td>\n",
       "      <td>06.08.2018</td>\n",
       "      <td>2018-09-06</td>\n",
       "      <td>Меню с 03-07 сентября.xls</td>\n",
       "    </tr>\n",
       "  </tbody>\n",
       "</table>\n",
       "</div>"
      ],
      "text/plain": [
       "                                            Food  Weight         Price Type  \\\n",
       "879      Салат с крабовыми палочками и кукурузой     100  1 руб 14 коп  NaN   \n",
       "880  Салат из помидоров,капусты и сладкого перца     100  1 руб 26 коп  NaN   \n",
       "881                   Яйца фаршированные грибами  1шт/70  1 руб 27 коп  NaN   \n",
       "882                             Салат\"Полесский\"     100  1 руб 98 коп  NaN   \n",
       "883                      Салат из свежих огурцов     100        80 коп  NaN   \n",
       "\n",
       "             Key        Date                       File  \n",
       "879  06.08.2018   2018-09-06  Меню с 03-07 сентября.xls  \n",
       "880  06.08.2018   2018-09-06  Меню с 03-07 сентября.xls  \n",
       "881  06.08.2018   2018-09-06  Меню с 03-07 сентября.xls  \n",
       "882  06.08.2018   2018-09-06  Меню с 03-07 сентября.xls  \n",
       "883  06.08.2018   2018-09-06  Меню с 03-07 сентября.xls  "
      ]
     },
     "execution_count": 18,
     "metadata": {},
     "output_type": "execute_result"
    }
   ],
   "source": [
    "df[df['Key'].str.len() == 11].head()"
   ]
  },
  {
   "cell_type": "code",
   "execution_count": 19,
   "metadata": {},
   "outputs": [
    {
     "data": {
      "text/plain": [
       "('06.08.2018 ', '2018-09-06')"
      ]
     },
     "execution_count": 19,
     "metadata": {},
     "output_type": "execute_result"
    }
   ],
   "source": [
    "df.loc[879]['Key'], df.loc[879]['Date']"
   ]
  },
  {
   "cell_type": "markdown",
   "metadata": {},
   "source": [
    "\"Hello, We're whitespaces. Missed us?\""
   ]
  },
  {
   "cell_type": "code",
   "execution_count": 20,
   "metadata": {},
   "outputs": [
    {
     "data": {
      "text/html": [
       "<div>\n",
       "<style scoped>\n",
       "    .dataframe tbody tr th:only-of-type {\n",
       "        vertical-align: middle;\n",
       "    }\n",
       "\n",
       "    .dataframe tbody tr th {\n",
       "        vertical-align: top;\n",
       "    }\n",
       "\n",
       "    .dataframe thead th {\n",
       "        text-align: right;\n",
       "    }\n",
       "</style>\n",
       "<table border=\"1\" class=\"dataframe\">\n",
       "  <thead>\n",
       "    <tr style=\"text-align: right;\">\n",
       "      <th></th>\n",
       "      <th>Food</th>\n",
       "      <th>Weight</th>\n",
       "      <th>Price</th>\n",
       "      <th>Type</th>\n",
       "      <th>Key</th>\n",
       "      <th>Date</th>\n",
       "      <th>File</th>\n",
       "    </tr>\n",
       "  </thead>\n",
       "  <tbody>\n",
       "    <tr>\n",
       "      <th>14571</th>\n",
       "      <td>Морковь пряная</td>\n",
       "      <td>100</td>\n",
       "      <td>79 коп</td>\n",
       "      <td>NaN</td>\n",
       "      <td>16.082019</td>\n",
       "      <td>2019-08-16</td>\n",
       "      <td>Меню с 12-16 августа.xls</td>\n",
       "    </tr>\n",
       "    <tr>\n",
       "      <th>14572</th>\n",
       "      <td>Яйцо фыршированое грибами</td>\n",
       "      <td>1шт/70/2</td>\n",
       "      <td>1 руб 27 коп</td>\n",
       "      <td>NaN</td>\n",
       "      <td>16.082019</td>\n",
       "      <td>2019-08-16</td>\n",
       "      <td>Меню с 12-16 августа.xls</td>\n",
       "    </tr>\n",
       "    <tr>\n",
       "      <th>14573</th>\n",
       "      <td>Салат из помидоров,огурцов и сл.перца</td>\n",
       "      <td>100</td>\n",
       "      <td>1 руб 49 коп</td>\n",
       "      <td>NaN</td>\n",
       "      <td>16.082019</td>\n",
       "      <td>2019-08-16</td>\n",
       "      <td>Меню с 12-16 августа.xls</td>\n",
       "    </tr>\n",
       "    <tr>\n",
       "      <th>14574</th>\n",
       "      <td>Салат из птицы с пекинской кап</td>\n",
       "      <td>100</td>\n",
       "      <td>1 руб 76 коп</td>\n",
       "      <td>NaN</td>\n",
       "      <td>16.082019</td>\n",
       "      <td>2019-08-16</td>\n",
       "      <td>Меню с 12-16 августа.xls</td>\n",
       "    </tr>\n",
       "    <tr>\n",
       "      <th>14575</th>\n",
       "      <td>Суп\"Польский\"</td>\n",
       "      <td>250</td>\n",
       "      <td>1 руб 26 коп</td>\n",
       "      <td>Супы</td>\n",
       "      <td>16.082019</td>\n",
       "      <td>2019-08-16</td>\n",
       "      <td>Меню с 12-16 августа.xls</td>\n",
       "    </tr>\n",
       "  </tbody>\n",
       "</table>\n",
       "</div>"
      ],
      "text/plain": [
       "                                        Food    Weight         Price  Type  \\\n",
       "14571                         Морковь пряная       100        79 коп   NaN   \n",
       "14572              Яйцо фыршированое грибами  1шт/70/2  1 руб 27 коп   NaN   \n",
       "14573  Салат из помидоров,огурцов и сл.перца       100  1 руб 49 коп   NaN   \n",
       "14574         Салат из птицы с пекинской кап       100  1 руб 76 коп   NaN   \n",
       "14575                          Суп\"Польский\"       250  1 руб 26 коп  Супы   \n",
       "\n",
       "             Key        Date                      File  \n",
       "14571  16.082019  2019-08-16  Меню с 12-16 августа.xls  \n",
       "14572  16.082019  2019-08-16  Меню с 12-16 августа.xls  \n",
       "14573  16.082019  2019-08-16  Меню с 12-16 августа.xls  \n",
       "14574  16.082019  2019-08-16  Меню с 12-16 августа.xls  \n",
       "14575  16.082019  2019-08-16  Меню с 12-16 августа.xls  "
      ]
     },
     "execution_count": 20,
     "metadata": {},
     "output_type": "execute_result"
    }
   ],
   "source": [
    "df[df['Key'].str.len() == 9].head()"
   ]
  },
  {
   "cell_type": "markdown",
   "metadata": {},
   "source": [
    "Dates in the `Key` column are often inconsistent. We will use dates from the `Date` column instead. If the `Date` is empty, we will try to take respective date from the `Key` column."
   ]
  },
  {
   "cell_type": "code",
   "execution_count": 21,
   "metadata": {},
   "outputs": [],
   "source": [
    "df['MenuDate'] = pd.to_datetime(df['Date'])"
   ]
  },
  {
   "cell_type": "code",
   "execution_count": 22,
   "metadata": {},
   "outputs": [
    {
     "data": {
      "text/plain": [
       "count                   16254\n",
       "unique                    415\n",
       "top       2018-01-26 00:00:00\n",
       "freq                     1065\n",
       "first     2017-11-20 00:00:00\n",
       "last      2019-08-23 00:00:00\n",
       "Name: MenuDate, dtype: object"
      ]
     },
     "execution_count": 22,
     "metadata": {},
     "output_type": "execute_result"
    }
   ],
   "source": [
    "df['MenuDate'].describe()"
   ]
  },
  {
   "cell_type": "markdown",
   "metadata": {},
   "source": [
    "Missing values try to take from the `Key` column."
   ]
  },
  {
   "cell_type": "code",
   "execution_count": 23,
   "metadata": {},
   "outputs": [
    {
     "data": {
      "text/plain": [
       "10    173\n",
       "Name: Key, dtype: int64"
      ]
     },
     "execution_count": 23,
     "metadata": {},
     "output_type": "execute_result"
    }
   ],
   "source": [
    "df[df['MenuDate'].isna()]['Key'].str.strip().str.len().value_counts()"
   ]
  },
  {
   "cell_type": "code",
   "execution_count": 24,
   "metadata": {},
   "outputs": [
    {
     "data": {
      "text/plain": [
       "173"
      ]
     },
     "execution_count": 24,
     "metadata": {},
     "output_type": "execute_result"
    }
   ],
   "source": [
    "sum(df['MenuDate'].isna())"
   ]
  },
  {
   "cell_type": "code",
   "execution_count": 25,
   "metadata": {},
   "outputs": [],
   "source": [
    "df.loc[df['MenuDate'].isna(), 'MenuDate'] = \\\n",
    "    pd.to_datetime(df[df['MenuDate'].isna()]['Key'].str.strip(), format='%d.%m.%Y')"
   ]
  },
  {
   "cell_type": "code",
   "execution_count": 26,
   "metadata": {},
   "outputs": [
    {
     "data": {
      "text/plain": [
       "count                   16427\n",
       "unique                    423\n",
       "top       2018-01-24 00:00:00\n",
       "freq                     1065\n",
       "first     2017-11-20 00:00:00\n",
       "last      2019-08-23 00:00:00\n",
       "Name: MenuDate, dtype: object"
      ]
     },
     "execution_count": 26,
     "metadata": {},
     "output_type": "execute_result"
    }
   ],
   "source": [
    "df['MenuDate'].describe()"
   ]
  },
  {
   "cell_type": "code",
   "execution_count": 27,
   "metadata": {},
   "outputs": [],
   "source": [
    "df_date_proc = df.drop(columns=['Key', 'Date'])"
   ]
  },
  {
   "cell_type": "code",
   "execution_count": 28,
   "metadata": {},
   "outputs": [
    {
     "data": {
      "text/html": [
       "<div>\n",
       "<style scoped>\n",
       "    .dataframe tbody tr th:only-of-type {\n",
       "        vertical-align: middle;\n",
       "    }\n",
       "\n",
       "    .dataframe tbody tr th {\n",
       "        vertical-align: top;\n",
       "    }\n",
       "\n",
       "    .dataframe thead th {\n",
       "        text-align: right;\n",
       "    }\n",
       "</style>\n",
       "<table border=\"1\" class=\"dataframe\">\n",
       "  <thead>\n",
       "    <tr style=\"text-align: right;\">\n",
       "      <th></th>\n",
       "      <th>Food</th>\n",
       "      <th>Weight</th>\n",
       "      <th>Price</th>\n",
       "      <th>Type</th>\n",
       "      <th>File</th>\n",
       "      <th>MenuDate</th>\n",
       "    </tr>\n",
       "  </thead>\n",
       "  <tbody>\n",
       "    <tr>\n",
       "      <th>0</th>\n",
       "      <td>Салат из капусты с яблоком</td>\n",
       "      <td>100</td>\n",
       "      <td>86 коп</td>\n",
       "      <td>NaN</td>\n",
       "      <td>Меню 14 января.xls</td>\n",
       "      <td>2019-01-14</td>\n",
       "    </tr>\n",
       "    <tr>\n",
       "      <th>1</th>\n",
       "      <td>Салат \"Варя гуцульская\"</td>\n",
       "      <td>100</td>\n",
       "      <td>1 руб 50 коп</td>\n",
       "      <td>NaN</td>\n",
       "      <td>Меню 14 января.xls</td>\n",
       "      <td>2019-01-14</td>\n",
       "    </tr>\n",
       "    <tr>\n",
       "      <th>2</th>\n",
       "      <td>Салат\"Английский\"</td>\n",
       "      <td>100</td>\n",
       "      <td>1 руб 82 коп</td>\n",
       "      <td>NaN</td>\n",
       "      <td>Меню 14 января.xls</td>\n",
       "      <td>2019-01-14</td>\n",
       "    </tr>\n",
       "    <tr>\n",
       "      <th>3</th>\n",
       "      <td>Суп-харчо</td>\n",
       "      <td>250</td>\n",
       "      <td>2 руб 05 коп</td>\n",
       "      <td>Супы</td>\n",
       "      <td>Меню 14 января.xls</td>\n",
       "      <td>2019-01-14</td>\n",
       "    </tr>\n",
       "    <tr>\n",
       "      <th>4</th>\n",
       "      <td>Суп картофельный с фасолью и курицей</td>\n",
       "      <td>250</td>\n",
       "      <td>1 руб 58 коп</td>\n",
       "      <td>Супы</td>\n",
       "      <td>Меню 14 января.xls</td>\n",
       "      <td>2019-01-14</td>\n",
       "    </tr>\n",
       "  </tbody>\n",
       "</table>\n",
       "</div>"
      ],
      "text/plain": [
       "                                   Food Weight         Price  Type  \\\n",
       "0            Салат из капусты с яблоком    100        86 коп   NaN   \n",
       "1               Салат \"Варя гуцульская\"    100  1 руб 50 коп   NaN   \n",
       "2                     Салат\"Английский\"    100  1 руб 82 коп   NaN   \n",
       "3                             Суп-харчо    250  2 руб 05 коп  Супы   \n",
       "4  Суп картофельный с фасолью и курицей    250  1 руб 58 коп  Супы   \n",
       "\n",
       "                 File   MenuDate  \n",
       "0  Меню 14 января.xls 2019-01-14  \n",
       "1  Меню 14 января.xls 2019-01-14  \n",
       "2  Меню 14 января.xls 2019-01-14  \n",
       "3  Меню 14 января.xls 2019-01-14  \n",
       "4  Меню 14 января.xls 2019-01-14  "
      ]
     },
     "execution_count": 28,
     "metadata": {},
     "output_type": "execute_result"
    }
   ],
   "source": [
    "df_date_proc.head()"
   ]
  },
  {
   "cell_type": "code",
   "execution_count": 29,
   "metadata": {},
   "outputs": [
    {
     "data": {
      "image/png": "[encoded data removed]",
      "text/plain": [
       "<Figure size 1224x648 with 1 Axes>"
      ]
     },
     "metadata": {
      "needs_background": "light"
     },
     "output_type": "display_data"
    }
   ],
   "source": [
    "df_date_proc.groupby('MenuDate').size().plot.bar(rot=90, figsize=(17, 9), title='Number of menu items');"
   ]
  },
  {
   "cell_type": "markdown",
   "metadata": {},
   "source": [
    "You can't see dates clearly, but there is an abvious peak in the beginning."
   ]
  },
  {
   "cell_type": "code",
   "execution_count": 30,
   "metadata": {},
   "outputs": [],
   "source": [
    "peak_dates = (df_date_proc.groupby('MenuDate').size()).index[df_date_proc.groupby('MenuDate').size() > 200]"
   ]
  },
  {
   "cell_type": "code",
   "execution_count": 31,
   "metadata": {},
   "outputs": [
    {
     "data": {
      "text/plain": [
       "DatetimeIndex(['2018-01-24', '2018-01-25', '2018-01-26'], dtype='datetime64[ns]', name='MenuDate', freq=None)"
      ]
     },
     "execution_count": 31,
     "metadata": {},
     "output_type": "execute_result"
    }
   ],
   "source": [
    "peak_dates"
   ]
  },
  {
   "cell_type": "code",
   "execution_count": 32,
   "metadata": {},
   "outputs": [
    {
     "data": {
      "text/html": [
       "<div>\n",
       "<style scoped>\n",
       "    .dataframe tbody tr th:only-of-type {\n",
       "        vertical-align: middle;\n",
       "    }\n",
       "\n",
       "    .dataframe tbody tr th {\n",
       "        vertical-align: top;\n",
       "    }\n",
       "\n",
       "    .dataframe thead th {\n",
       "        text-align: right;\n",
       "    }\n",
       "</style>\n",
       "<table border=\"1\" class=\"dataframe\">\n",
       "  <thead>\n",
       "    <tr style=\"text-align: right;\">\n",
       "      <th></th>\n",
       "      <th>Food</th>\n",
       "      <th>Weight</th>\n",
       "      <th>Price</th>\n",
       "      <th>Type</th>\n",
       "      <th>File</th>\n",
       "      <th>MenuDate</th>\n",
       "    </tr>\n",
       "  </thead>\n",
       "  <tbody>\n",
       "    <tr>\n",
       "      <th>6931</th>\n",
       "      <td>Салат овощной с колбасой</td>\n",
       "      <td>100</td>\n",
       "      <td>1 руб 01 коп</td>\n",
       "      <td>NaN</td>\n",
       "      <td>Меню с 22.01 по 26.01.2018г.xls</td>\n",
       "      <td>2018-01-24</td>\n",
       "    </tr>\n",
       "    <tr>\n",
       "      <th>6932</th>\n",
       "      <td>Салат \"Слоеный\"</td>\n",
       "      <td>100</td>\n",
       "      <td>1 руб 22 коп</td>\n",
       "      <td>NaN</td>\n",
       "      <td>Меню с 22.01 по 26.01.2018г.xls</td>\n",
       "      <td>2018-01-24</td>\n",
       "    </tr>\n",
       "    <tr>\n",
       "      <th>6933</th>\n",
       "      <td>Салат картофельный с ветчиной</td>\n",
       "      <td>100</td>\n",
       "      <td>1 руб 32 коп</td>\n",
       "      <td>NaN</td>\n",
       "      <td>Меню с 22.01 по 26.01.2018г.xls</td>\n",
       "      <td>2018-01-24</td>\n",
       "    </tr>\n",
       "    <tr>\n",
       "      <th>6934</th>\n",
       "      <td>Салат из помидоров, огурец и сладкого перца</td>\n",
       "      <td>100</td>\n",
       "      <td>1 руб 33 коп</td>\n",
       "      <td>NaN</td>\n",
       "      <td>Меню с 22.01 по 26.01.2018г.xls</td>\n",
       "      <td>2018-01-24</td>\n",
       "    </tr>\n",
       "    <tr>\n",
       "      <th>6935</th>\n",
       "      <td>Салат из свеклы с  сыром</td>\n",
       "      <td>100</td>\n",
       "      <td>80 коп</td>\n",
       "      <td>NaN</td>\n",
       "      <td>Меню с 22.01 по 26.01.2018г.xls</td>\n",
       "      <td>2018-01-24</td>\n",
       "    </tr>\n",
       "    <tr>\n",
       "      <th>...</th>\n",
       "      <td>...</td>\n",
       "      <td>...</td>\n",
       "      <td>...</td>\n",
       "      <td>...</td>\n",
       "      <td>...</td>\n",
       "      <td>...</td>\n",
       "    </tr>\n",
       "    <tr>\n",
       "      <th>7991</th>\n",
       "      <td>Банан</td>\n",
       "      <td>100</td>\n",
       "      <td>52 коп</td>\n",
       "      <td>Фрукты</td>\n",
       "      <td>Меню с 22.01 по 26.01.2018г.xls</td>\n",
       "      <td>2018-01-24</td>\n",
       "    </tr>\n",
       "    <tr>\n",
       "      <th>7992</th>\n",
       "      <td>Яблоко,груша</td>\n",
       "      <td>100</td>\n",
       "      <td>46 коп</td>\n",
       "      <td>Фрукты</td>\n",
       "      <td>Меню с 22.01 по 26.01.2018г.xls</td>\n",
       "      <td>2018-01-24</td>\n",
       "    </tr>\n",
       "    <tr>\n",
       "      <th>7993</th>\n",
       "      <td>Французская булочка с чесночной начиной</td>\n",
       "      <td>шт.</td>\n",
       "      <td>70 коп</td>\n",
       "      <td>Хлеб, хлебобулочные изделия</td>\n",
       "      <td>Меню с 22.01 по 26.01.2018г.xls</td>\n",
       "      <td>2018-01-24</td>\n",
       "    </tr>\n",
       "    <tr>\n",
       "      <th>7994</th>\n",
       "      <td>Хлеб \"Чиабатта\"</td>\n",
       "      <td>шт.</td>\n",
       "      <td>1 руб 15 коп</td>\n",
       "      <td>Хлеб, хлебобулочные изделия</td>\n",
       "      <td>Меню с 22.01 по 26.01.2018г.xls</td>\n",
       "      <td>2018-01-24</td>\n",
       "    </tr>\n",
       "    <tr>\n",
       "      <th>7995</th>\n",
       "      <td>Хлеб</td>\n",
       "      <td>2кусочек</td>\n",
       "      <td>18 коп</td>\n",
       "      <td>Хлеб, хлебобулочные изделия</td>\n",
       "      <td>Меню с 22.01 по 26.01.2018г.xls</td>\n",
       "      <td>2018-01-24</td>\n",
       "    </tr>\n",
       "  </tbody>\n",
       "</table>\n",
       "<p>1065 rows × 6 columns</p>\n",
       "</div>"
      ],
      "text/plain": [
       "                                             Food    Weight         Price  \\\n",
       "6931                     Салат овощной с колбасой       100  1 руб 01 коп   \n",
       "6932                              Салат \"Слоеный\"       100  1 руб 22 коп   \n",
       "6933                Салат картофельный с ветчиной       100  1 руб 32 коп   \n",
       "6934  Салат из помидоров, огурец и сладкого перца       100  1 руб 33 коп   \n",
       "6935                     Салат из свеклы с  сыром       100        80 коп   \n",
       "...                                           ...       ...           ...   \n",
       "7991                                        Банан       100        52 коп   \n",
       "7992                                 Яблоко,груша       100        46 коп   \n",
       "7993      Французская булочка с чесночной начиной       шт.        70 коп   \n",
       "7994                              Хлеб \"Чиабатта\"       шт.  1 руб 15 коп   \n",
       "7995                                         Хлеб  2кусочек        18 коп   \n",
       "\n",
       "                             Type                             File   MenuDate  \n",
       "6931                          NaN  Меню с 22.01 по 26.01.2018г.xls 2018-01-24  \n",
       "6932                          NaN  Меню с 22.01 по 26.01.2018г.xls 2018-01-24  \n",
       "6933                          NaN  Меню с 22.01 по 26.01.2018г.xls 2018-01-24  \n",
       "6934                          NaN  Меню с 22.01 по 26.01.2018г.xls 2018-01-24  \n",
       "6935                          NaN  Меню с 22.01 по 26.01.2018г.xls 2018-01-24  \n",
       "...                           ...                              ...        ...  \n",
       "7991                       Фрукты  Меню с 22.01 по 26.01.2018г.xls 2018-01-24  \n",
       "7992                       Фрукты  Меню с 22.01 по 26.01.2018г.xls 2018-01-24  \n",
       "7993  Хлеб, хлебобулочные изделия  Меню с 22.01 по 26.01.2018г.xls 2018-01-24  \n",
       "7994  Хлеб, хлебобулочные изделия  Меню с 22.01 по 26.01.2018г.xls 2018-01-24  \n",
       "7995  Хлеб, хлебобулочные изделия  Меню с 22.01 по 26.01.2018г.xls 2018-01-24  \n",
       "\n",
       "[1065 rows x 6 columns]"
      ]
     },
     "execution_count": 32,
     "metadata": {},
     "output_type": "execute_result"
    }
   ],
   "source": [
    "df_date_proc[df_date_proc['MenuDate'].isin(peak_dates[:1])]"
   ]
  },
  {
   "cell_type": "markdown",
   "metadata": {},
   "source": [
    "Duplicates?"
   ]
  },
  {
   "cell_type": "code",
   "execution_count": 33,
   "metadata": {},
   "outputs": [
    {
     "data": {
      "text/plain": [
       "999"
      ]
     },
     "execution_count": 33,
     "metadata": {},
     "output_type": "execute_result"
    }
   ],
   "source": [
    "sum(df_date_proc[df_date_proc['MenuDate'].isin(peak_dates[:1])].duplicated())"
   ]
  },
  {
   "cell_type": "code",
   "execution_count": 34,
   "metadata": {},
   "outputs": [],
   "source": [
    "df_date_proc.drop_duplicates(inplace=True)"
   ]
  },
  {
   "cell_type": "code",
   "execution_count": 35,
   "metadata": {},
   "outputs": [
    {
     "data": {
      "text/plain": [
       "DatetimeIndex(['2017-11-20', '2017-11-21', '2017-11-22', '2017-11-23',\n",
       "               '2017-11-24', '2017-11-28', '2017-11-29', '2017-11-30',\n",
       "               '2017-12-01', '2017-12-04',\n",
       "               ...\n",
       "               '2019-08-12', '2019-08-13', '2019-08-14', '2019-08-15',\n",
       "               '2019-08-16', '2019-08-19', '2019-08-20', '2019-08-21',\n",
       "               '2019-08-22', '2019-08-23'],\n",
       "              dtype='datetime64[ns]', name='MenuDate', length=423, freq=None)"
      ]
     },
     "execution_count": 35,
     "metadata": {},
     "output_type": "execute_result"
    }
   ],
   "source": [
    "df_date_proc.groupby('MenuDate').size().index"
   ]
  },
  {
   "cell_type": "code",
   "execution_count": 36,
   "metadata": {
    "scrolled": false
   },
   "outputs": [
    {
     "data": {
      "image/png": "[encoded data removed]",
      "text/plain": [
       "<Figure size 1224x648 with 1 Axes>"
      ]
     },
     "metadata": {
      "needs_background": "light"
     },
     "output_type": "display_data"
    }
   ],
   "source": [
    "df_date_proc.groupby('MenuDate').size().plot.bar(rot=90, \n",
    "                                        figsize=(17, 9), \n",
    "                                        title='Number of menu items without duplicates');"
   ]
  },
  {
   "cell_type": "markdown",
   "metadata": {},
   "source": [
    "After a certain date number of menu items became two times smaller."
   ]
  },
  {
   "cell_type": "code",
   "execution_count": 37,
   "metadata": {},
   "outputs": [
    {
     "data": {
      "image/png": "[encoded data removed]",
      "text/plain": [
       "<Figure size 1224x648 with 1 Axes>"
      ]
     },
     "metadata": {
      "needs_background": "light"
     },
     "output_type": "display_data"
    }
   ],
   "source": [
    "df_date_proc.groupby('MenuDate').size().head(100).plot.bar(rot=90, \n",
    "                                        figsize=(17, 9), \n",
    "                                        title='Number of first 100 menu items without duplicates');"
   ]
  },
  {
   "cell_type": "markdown",
   "metadata": {},
   "source": [
    "It happened around April 9, 2018."
   ]
  },
  {
   "cell_type": "markdown",
   "metadata": {},
   "source": [
    "### Dealing with prices"
   ]
  },
  {
   "cell_type": "code",
   "execution_count": 38,
   "metadata": {},
   "outputs": [
    {
     "data": {
      "text/html": [
       "<div>\n",
       "<style scoped>\n",
       "    .dataframe tbody tr th:only-of-type {\n",
       "        vertical-align: middle;\n",
       "    }\n",
       "\n",
       "    .dataframe tbody tr th {\n",
       "        vertical-align: top;\n",
       "    }\n",
       "\n",
       "    .dataframe thead th {\n",
       "        text-align: right;\n",
       "    }\n",
       "</style>\n",
       "<table border=\"1\" class=\"dataframe\">\n",
       "  <thead>\n",
       "    <tr style=\"text-align: right;\">\n",
       "      <th></th>\n",
       "      <th>Food</th>\n",
       "      <th>Weight</th>\n",
       "      <th>Price</th>\n",
       "      <th>Type</th>\n",
       "      <th>File</th>\n",
       "      <th>MenuDate</th>\n",
       "    </tr>\n",
       "  </thead>\n",
       "  <tbody>\n",
       "    <tr>\n",
       "      <th>0</th>\n",
       "      <td>Салат из капусты с яблоком</td>\n",
       "      <td>100</td>\n",
       "      <td>86 коп</td>\n",
       "      <td>NaN</td>\n",
       "      <td>Меню 14 января.xls</td>\n",
       "      <td>2019-01-14</td>\n",
       "    </tr>\n",
       "    <tr>\n",
       "      <th>1</th>\n",
       "      <td>Салат \"Варя гуцульская\"</td>\n",
       "      <td>100</td>\n",
       "      <td>1 руб 50 коп</td>\n",
       "      <td>NaN</td>\n",
       "      <td>Меню 14 января.xls</td>\n",
       "      <td>2019-01-14</td>\n",
       "    </tr>\n",
       "    <tr>\n",
       "      <th>2</th>\n",
       "      <td>Салат\"Английский\"</td>\n",
       "      <td>100</td>\n",
       "      <td>1 руб 82 коп</td>\n",
       "      <td>NaN</td>\n",
       "      <td>Меню 14 января.xls</td>\n",
       "      <td>2019-01-14</td>\n",
       "    </tr>\n",
       "    <tr>\n",
       "      <th>3</th>\n",
       "      <td>Суп-харчо</td>\n",
       "      <td>250</td>\n",
       "      <td>2 руб 05 коп</td>\n",
       "      <td>Супы</td>\n",
       "      <td>Меню 14 января.xls</td>\n",
       "      <td>2019-01-14</td>\n",
       "    </tr>\n",
       "    <tr>\n",
       "      <th>4</th>\n",
       "      <td>Суп картофельный с фасолью и курицей</td>\n",
       "      <td>250</td>\n",
       "      <td>1 руб 58 коп</td>\n",
       "      <td>Супы</td>\n",
       "      <td>Меню 14 января.xls</td>\n",
       "      <td>2019-01-14</td>\n",
       "    </tr>\n",
       "  </tbody>\n",
       "</table>\n",
       "</div>"
      ],
      "text/plain": [
       "                                   Food Weight         Price  Type  \\\n",
       "0            Салат из капусты с яблоком    100        86 коп   NaN   \n",
       "1               Салат \"Варя гуцульская\"    100  1 руб 50 коп   NaN   \n",
       "2                     Салат\"Английский\"    100  1 руб 82 коп   NaN   \n",
       "3                             Суп-харчо    250  2 руб 05 коп  Супы   \n",
       "4  Суп картофельный с фасолью и курицей    250  1 руб 58 коп  Супы   \n",
       "\n",
       "                 File   MenuDate  \n",
       "0  Меню 14 января.xls 2019-01-14  \n",
       "1  Меню 14 января.xls 2019-01-14  \n",
       "2  Меню 14 января.xls 2019-01-14  \n",
       "3  Меню 14 января.xls 2019-01-14  \n",
       "4  Меню 14 января.xls 2019-01-14  "
      ]
     },
     "execution_count": 38,
     "metadata": {},
     "output_type": "execute_result"
    }
   ],
   "source": [
    "df_date_proc.head()"
   ]
  },
  {
   "cell_type": "code",
   "execution_count": 39,
   "metadata": {},
   "outputs": [
    {
     "data": {
      "text/html": [
       "<div>\n",
       "<style scoped>\n",
       "    .dataframe tbody tr th:only-of-type {\n",
       "        vertical-align: middle;\n",
       "    }\n",
       "\n",
       "    .dataframe tbody tr th {\n",
       "        vertical-align: top;\n",
       "    }\n",
       "\n",
       "    .dataframe thead th {\n",
       "        text-align: right;\n",
       "    }\n",
       "</style>\n",
       "<table border=\"1\" class=\"dataframe\">\n",
       "  <thead>\n",
       "    <tr style=\"text-align: right;\">\n",
       "      <th></th>\n",
       "      <th>Food</th>\n",
       "      <th>Weight</th>\n",
       "      <th>Price</th>\n",
       "      <th>Type</th>\n",
       "      <th>File</th>\n",
       "      <th>MenuDate</th>\n",
       "    </tr>\n",
       "  </thead>\n",
       "  <tbody>\n",
       "    <tr>\n",
       "      <th>16422</th>\n",
       "      <td>Пудинг из творога</td>\n",
       "      <td>150</td>\n",
       "      <td>2 руб 35 коп</td>\n",
       "      <td>Сладкие блюда</td>\n",
       "      <td>Меню с 29.07.xls</td>\n",
       "      <td>2019-08-02</td>\n",
       "    </tr>\n",
       "    <tr>\n",
       "      <th>16423</th>\n",
       "      <td>Напиток лимонный</td>\n",
       "      <td>0.2</td>\n",
       "      <td>60 коп</td>\n",
       "      <td>Напитки</td>\n",
       "      <td>Меню с 29.07.xls</td>\n",
       "      <td>2019-08-02</td>\n",
       "    </tr>\n",
       "    <tr>\n",
       "      <th>16424</th>\n",
       "      <td>Французская булочка с чесночной начинкой</td>\n",
       "      <td>шт.</td>\n",
       "      <td>70 коп</td>\n",
       "      <td>Хлеб, хлебобулочные изделия</td>\n",
       "      <td>Меню с 29.07.xls</td>\n",
       "      <td>2019-08-02</td>\n",
       "    </tr>\n",
       "    <tr>\n",
       "      <th>16425</th>\n",
       "      <td>Хлеб \"Чиабатта\"</td>\n",
       "      <td>шт.</td>\n",
       "      <td>1 руб 15 коп</td>\n",
       "      <td>Хлеб, хлебобулочные изделия</td>\n",
       "      <td>Меню с 29.07.xls</td>\n",
       "      <td>2019-08-02</td>\n",
       "    </tr>\n",
       "    <tr>\n",
       "      <th>16426</th>\n",
       "      <td>Хлеб</td>\n",
       "      <td>2кусочек</td>\n",
       "      <td>18 коп</td>\n",
       "      <td>Хлеб, хлебобулочные изделия</td>\n",
       "      <td>Меню с 29.07.xls</td>\n",
       "      <td>2019-08-02</td>\n",
       "    </tr>\n",
       "  </tbody>\n",
       "</table>\n",
       "</div>"
      ],
      "text/plain": [
       "                                           Food    Weight         Price  \\\n",
       "16422                         Пудинг из творога       150  2 руб 35 коп   \n",
       "16423                          Напиток лимонный       0.2        60 коп   \n",
       "16424  Французская булочка с чесночной начинкой       шт.        70 коп   \n",
       "16425                           Хлеб \"Чиабатта\"       шт.  1 руб 15 коп   \n",
       "16426                                      Хлеб  2кусочек        18 коп   \n",
       "\n",
       "                              Type              File   MenuDate  \n",
       "16422                Сладкие блюда  Меню с 29.07.xls 2019-08-02  \n",
       "16423                      Напитки  Меню с 29.07.xls 2019-08-02  \n",
       "16424  Хлеб, хлебобулочные изделия  Меню с 29.07.xls 2019-08-02  \n",
       "16425  Хлеб, хлебобулочные изделия  Меню с 29.07.xls 2019-08-02  \n",
       "16426  Хлеб, хлебобулочные изделия  Меню с 29.07.xls 2019-08-02  "
      ]
     },
     "execution_count": 39,
     "metadata": {},
     "output_type": "execute_result"
    }
   ],
   "source": [
    "df_date_proc.tail()"
   ]
  },
  {
   "cell_type": "code",
   "execution_count": 40,
   "metadata": {},
   "outputs": [],
   "source": [
    "df_date_price_proc = df_date_proc.copy()"
   ]
  },
  {
   "cell_type": "code",
   "execution_count": 41,
   "metadata": {},
   "outputs": [],
   "source": [
    "df_date_price_proc['Price'] = df_date_price_proc['Price'].apply(lambda x: pr.price_to_number(x))"
   ]
  },
  {
   "cell_type": "code",
   "execution_count": 42,
   "metadata": {},
   "outputs": [
    {
     "data": {
      "text/html": [
       "<div>\n",
       "<style scoped>\n",
       "    .dataframe tbody tr th:only-of-type {\n",
       "        vertical-align: middle;\n",
       "    }\n",
       "\n",
       "    .dataframe tbody tr th {\n",
       "        vertical-align: top;\n",
       "    }\n",
       "\n",
       "    .dataframe thead th {\n",
       "        text-align: right;\n",
       "    }\n",
       "</style>\n",
       "<table border=\"1\" class=\"dataframe\">\n",
       "  <thead>\n",
       "    <tr style=\"text-align: right;\">\n",
       "      <th></th>\n",
       "      <th>Food</th>\n",
       "      <th>Weight</th>\n",
       "      <th>Price</th>\n",
       "      <th>Type</th>\n",
       "      <th>File</th>\n",
       "      <th>MenuDate</th>\n",
       "    </tr>\n",
       "  </thead>\n",
       "  <tbody>\n",
       "    <tr>\n",
       "      <th>0</th>\n",
       "      <td>Салат из капусты с яблоком</td>\n",
       "      <td>100</td>\n",
       "      <td>0.86</td>\n",
       "      <td>NaN</td>\n",
       "      <td>Меню 14 января.xls</td>\n",
       "      <td>2019-01-14</td>\n",
       "    </tr>\n",
       "    <tr>\n",
       "      <th>1</th>\n",
       "      <td>Салат \"Варя гуцульская\"</td>\n",
       "      <td>100</td>\n",
       "      <td>1.50</td>\n",
       "      <td>NaN</td>\n",
       "      <td>Меню 14 января.xls</td>\n",
       "      <td>2019-01-14</td>\n",
       "    </tr>\n",
       "    <tr>\n",
       "      <th>2</th>\n",
       "      <td>Салат\"Английский\"</td>\n",
       "      <td>100</td>\n",
       "      <td>1.82</td>\n",
       "      <td>NaN</td>\n",
       "      <td>Меню 14 января.xls</td>\n",
       "      <td>2019-01-14</td>\n",
       "    </tr>\n",
       "    <tr>\n",
       "      <th>3</th>\n",
       "      <td>Суп-харчо</td>\n",
       "      <td>250</td>\n",
       "      <td>2.05</td>\n",
       "      <td>Супы</td>\n",
       "      <td>Меню 14 января.xls</td>\n",
       "      <td>2019-01-14</td>\n",
       "    </tr>\n",
       "    <tr>\n",
       "      <th>4</th>\n",
       "      <td>Суп картофельный с фасолью и курицей</td>\n",
       "      <td>250</td>\n",
       "      <td>1.58</td>\n",
       "      <td>Супы</td>\n",
       "      <td>Меню 14 января.xls</td>\n",
       "      <td>2019-01-14</td>\n",
       "    </tr>\n",
       "  </tbody>\n",
       "</table>\n",
       "</div>"
      ],
      "text/plain": [
       "                                   Food Weight  Price  Type  \\\n",
       "0            Салат из капусты с яблоком    100   0.86   NaN   \n",
       "1               Салат \"Варя гуцульская\"    100   1.50   NaN   \n",
       "2                     Салат\"Английский\"    100   1.82   NaN   \n",
       "3                             Суп-харчо    250   2.05  Супы   \n",
       "4  Суп картофельный с фасолью и курицей    250   1.58  Супы   \n",
       "\n",
       "                 File   MenuDate  \n",
       "0  Меню 14 января.xls 2019-01-14  \n",
       "1  Меню 14 января.xls 2019-01-14  \n",
       "2  Меню 14 января.xls 2019-01-14  \n",
       "3  Меню 14 января.xls 2019-01-14  \n",
       "4  Меню 14 января.xls 2019-01-14  "
      ]
     },
     "execution_count": 42,
     "metadata": {},
     "output_type": "execute_result"
    }
   ],
   "source": [
    "df_date_price_proc.head()"
   ]
  },
  {
   "cell_type": "code",
   "execution_count": 43,
   "metadata": {},
   "outputs": [
    {
     "data": {
      "text/plain": [
       "count    13373.000000\n",
       "mean         1.538640\n",
       "std          1.244487\n",
       "min          0.060000\n",
       "25%          0.650000\n",
       "50%          1.150000\n",
       "75%          2.090000\n",
       "max         17.000000\n",
       "Name: Price, dtype: float64"
      ]
     },
     "execution_count": 43,
     "metadata": {},
     "output_type": "execute_result"
    }
   ],
   "source": [
    "df_date_price_proc.Price.describe()"
   ]
  },
  {
   "cell_type": "markdown",
   "metadata": {},
   "source": [
    "What is the most expensive item?"
   ]
  },
  {
   "cell_type": "code",
   "execution_count": 44,
   "metadata": {},
   "outputs": [
    {
     "data": {
      "text/html": [
       "<div>\n",
       "<style scoped>\n",
       "    .dataframe tbody tr th:only-of-type {\n",
       "        vertical-align: middle;\n",
       "    }\n",
       "\n",
       "    .dataframe tbody tr th {\n",
       "        vertical-align: top;\n",
       "    }\n",
       "\n",
       "    .dataframe thead th {\n",
       "        text-align: right;\n",
       "    }\n",
       "</style>\n",
       "<table border=\"1\" class=\"dataframe\">\n",
       "  <thead>\n",
       "    <tr style=\"text-align: right;\">\n",
       "      <th></th>\n",
       "      <th>Food</th>\n",
       "      <th>Weight</th>\n",
       "      <th>Price</th>\n",
       "      <th>Type</th>\n",
       "      <th>File</th>\n",
       "      <th>MenuDate</th>\n",
       "    </tr>\n",
       "  </thead>\n",
       "  <tbody>\n",
       "    <tr>\n",
       "      <th>14553</th>\n",
       "      <td>Куриные ножки в меду</td>\n",
       "      <td>1000</td>\n",
       "      <td>17.0</td>\n",
       "      <td>Вторые блюда</td>\n",
       "      <td>Меню с 12-16 августа.xls</td>\n",
       "      <td>2019-08-15</td>\n",
       "    </tr>\n",
       "    <tr>\n",
       "      <th>14728</th>\n",
       "      <td>Ножки куриные в меду</td>\n",
       "      <td>1000</td>\n",
       "      <td>17.0</td>\n",
       "      <td>Вторые блюда</td>\n",
       "      <td>Меню с 15.07 по 19.07.xls</td>\n",
       "      <td>2019-07-15</td>\n",
       "    </tr>\n",
       "  </tbody>\n",
       "</table>\n",
       "</div>"
      ],
      "text/plain": [
       "                       Food Weight  Price          Type  \\\n",
       "14553  Куриные ножки в меду   1000   17.0  Вторые блюда   \n",
       "14728  Ножки куриные в меду   1000   17.0  Вторые блюда   \n",
       "\n",
       "                            File   MenuDate  \n",
       "14553   Меню с 12-16 августа.xls 2019-08-15  \n",
       "14728  Меню с 15.07 по 19.07.xls 2019-07-15  "
      ]
     },
     "execution_count": 44,
     "metadata": {},
     "output_type": "execute_result"
    }
   ],
   "source": [
    "df_date_price_proc[df_date_price_proc.Price >= 17]"
   ]
  },
  {
   "cell_type": "markdown",
   "metadata": {},
   "source": [
    "It is price per kilogram. We might need to look for a product that is most expensive not in absolute numbers, but in rubles per gram or kilogram."
   ]
  },
  {
   "cell_type": "markdown",
   "metadata": {},
   "source": [
    "### Dealing with weights"
   ]
  },
  {
   "cell_type": "code",
   "execution_count": 45,
   "metadata": {},
   "outputs": [],
   "source": [
    "df_date_price_weight_proc = df_date_price_proc.copy()"
   ]
  },
  {
   "cell_type": "code",
   "execution_count": 46,
   "metadata": {},
   "outputs": [
    {
     "data": {
      "text/html": [
       "<div>\n",
       "<style scoped>\n",
       "    .dataframe tbody tr th:only-of-type {\n",
       "        vertical-align: middle;\n",
       "    }\n",
       "\n",
       "    .dataframe tbody tr th {\n",
       "        vertical-align: top;\n",
       "    }\n",
       "\n",
       "    .dataframe thead th {\n",
       "        text-align: right;\n",
       "    }\n",
       "</style>\n",
       "<table border=\"1\" class=\"dataframe\">\n",
       "  <thead>\n",
       "    <tr style=\"text-align: right;\">\n",
       "      <th></th>\n",
       "      <th>Food</th>\n",
       "      <th>Weight</th>\n",
       "      <th>Price</th>\n",
       "      <th>Type</th>\n",
       "      <th>File</th>\n",
       "      <th>MenuDate</th>\n",
       "    </tr>\n",
       "  </thead>\n",
       "  <tbody>\n",
       "    <tr>\n",
       "      <th>0</th>\n",
       "      <td>Салат из капусты с яблоком</td>\n",
       "      <td>100</td>\n",
       "      <td>0.86</td>\n",
       "      <td>NaN</td>\n",
       "      <td>Меню 14 января.xls</td>\n",
       "      <td>2019-01-14</td>\n",
       "    </tr>\n",
       "    <tr>\n",
       "      <th>1</th>\n",
       "      <td>Салат \"Варя гуцульская\"</td>\n",
       "      <td>100</td>\n",
       "      <td>1.50</td>\n",
       "      <td>NaN</td>\n",
       "      <td>Меню 14 января.xls</td>\n",
       "      <td>2019-01-14</td>\n",
       "    </tr>\n",
       "    <tr>\n",
       "      <th>2</th>\n",
       "      <td>Салат\"Английский\"</td>\n",
       "      <td>100</td>\n",
       "      <td>1.82</td>\n",
       "      <td>NaN</td>\n",
       "      <td>Меню 14 января.xls</td>\n",
       "      <td>2019-01-14</td>\n",
       "    </tr>\n",
       "    <tr>\n",
       "      <th>3</th>\n",
       "      <td>Суп-харчо</td>\n",
       "      <td>250</td>\n",
       "      <td>2.05</td>\n",
       "      <td>Супы</td>\n",
       "      <td>Меню 14 января.xls</td>\n",
       "      <td>2019-01-14</td>\n",
       "    </tr>\n",
       "    <tr>\n",
       "      <th>4</th>\n",
       "      <td>Суп картофельный с фасолью и курицей</td>\n",
       "      <td>250</td>\n",
       "      <td>1.58</td>\n",
       "      <td>Супы</td>\n",
       "      <td>Меню 14 января.xls</td>\n",
       "      <td>2019-01-14</td>\n",
       "    </tr>\n",
       "  </tbody>\n",
       "</table>\n",
       "</div>"
      ],
      "text/plain": [
       "                                   Food Weight  Price  Type  \\\n",
       "0            Салат из капусты с яблоком    100   0.86   NaN   \n",
       "1               Салат \"Варя гуцульская\"    100   1.50   NaN   \n",
       "2                     Салат\"Английский\"    100   1.82   NaN   \n",
       "3                             Суп-харчо    250   2.05  Супы   \n",
       "4  Суп картофельный с фасолью и курицей    250   1.58  Супы   \n",
       "\n",
       "                 File   MenuDate  \n",
       "0  Меню 14 января.xls 2019-01-14  \n",
       "1  Меню 14 января.xls 2019-01-14  \n",
       "2  Меню 14 января.xls 2019-01-14  \n",
       "3  Меню 14 января.xls 2019-01-14  \n",
       "4  Меню 14 января.xls 2019-01-14  "
      ]
     },
     "execution_count": 46,
     "metadata": {},
     "output_type": "execute_result"
    }
   ],
   "source": [
    "df_date_price_weight_proc.head()"
   ]
  },
  {
   "cell_type": "code",
   "execution_count": 47,
   "metadata": {},
   "outputs": [],
   "source": [
    "df_date_price_weight_proc['Weight'] = df_date_price_weight_proc['Weight'].apply(lambda x: pr.weight_to_number(x))"
   ]
  },
  {
   "cell_type": "code",
   "execution_count": 48,
   "metadata": {},
   "outputs": [
    {
     "data": {
      "text/html": [
       "<div>\n",
       "<style scoped>\n",
       "    .dataframe tbody tr th:only-of-type {\n",
       "        vertical-align: middle;\n",
       "    }\n",
       "\n",
       "    .dataframe tbody tr th {\n",
       "        vertical-align: top;\n",
       "    }\n",
       "\n",
       "    .dataframe thead th {\n",
       "        text-align: right;\n",
       "    }\n",
       "</style>\n",
       "<table border=\"1\" class=\"dataframe\">\n",
       "  <thead>\n",
       "    <tr style=\"text-align: right;\">\n",
       "      <th></th>\n",
       "      <th>Food</th>\n",
       "      <th>Weight</th>\n",
       "      <th>Price</th>\n",
       "      <th>Type</th>\n",
       "      <th>File</th>\n",
       "      <th>MenuDate</th>\n",
       "    </tr>\n",
       "  </thead>\n",
       "  <tbody>\n",
       "    <tr>\n",
       "      <th>0</th>\n",
       "      <td>Салат из капусты с яблоком</td>\n",
       "      <td>100.0</td>\n",
       "      <td>0.86</td>\n",
       "      <td>NaN</td>\n",
       "      <td>Меню 14 января.xls</td>\n",
       "      <td>2019-01-14</td>\n",
       "    </tr>\n",
       "    <tr>\n",
       "      <th>1</th>\n",
       "      <td>Салат \"Варя гуцульская\"</td>\n",
       "      <td>100.0</td>\n",
       "      <td>1.50</td>\n",
       "      <td>NaN</td>\n",
       "      <td>Меню 14 января.xls</td>\n",
       "      <td>2019-01-14</td>\n",
       "    </tr>\n",
       "    <tr>\n",
       "      <th>2</th>\n",
       "      <td>Салат\"Английский\"</td>\n",
       "      <td>100.0</td>\n",
       "      <td>1.82</td>\n",
       "      <td>NaN</td>\n",
       "      <td>Меню 14 января.xls</td>\n",
       "      <td>2019-01-14</td>\n",
       "    </tr>\n",
       "    <tr>\n",
       "      <th>3</th>\n",
       "      <td>Суп-харчо</td>\n",
       "      <td>250.0</td>\n",
       "      <td>2.05</td>\n",
       "      <td>Супы</td>\n",
       "      <td>Меню 14 января.xls</td>\n",
       "      <td>2019-01-14</td>\n",
       "    </tr>\n",
       "    <tr>\n",
       "      <th>4</th>\n",
       "      <td>Суп картофельный с фасолью и курицей</td>\n",
       "      <td>250.0</td>\n",
       "      <td>1.58</td>\n",
       "      <td>Супы</td>\n",
       "      <td>Меню 14 января.xls</td>\n",
       "      <td>2019-01-14</td>\n",
       "    </tr>\n",
       "  </tbody>\n",
       "</table>\n",
       "</div>"
      ],
      "text/plain": [
       "                                   Food  Weight  Price  Type  \\\n",
       "0            Салат из капусты с яблоком   100.0   0.86   NaN   \n",
       "1               Салат \"Варя гуцульская\"   100.0   1.50   NaN   \n",
       "2                     Салат\"Английский\"   100.0   1.82   NaN   \n",
       "3                             Суп-харчо   250.0   2.05  Супы   \n",
       "4  Суп картофельный с фасолью и курицей   250.0   1.58  Супы   \n",
       "\n",
       "                 File   MenuDate  \n",
       "0  Меню 14 января.xls 2019-01-14  \n",
       "1  Меню 14 января.xls 2019-01-14  \n",
       "2  Меню 14 января.xls 2019-01-14  \n",
       "3  Меню 14 января.xls 2019-01-14  \n",
       "4  Меню 14 января.xls 2019-01-14  "
      ]
     },
     "execution_count": 48,
     "metadata": {},
     "output_type": "execute_result"
    }
   ],
   "source": [
    "df_date_price_weight_proc.head()"
   ]
  },
  {
   "cell_type": "code",
   "execution_count": 49,
   "metadata": {},
   "outputs": [
    {
     "data": {
      "text/html": [
       "<div>\n",
       "<style scoped>\n",
       "    .dataframe tbody tr th:only-of-type {\n",
       "        vertical-align: middle;\n",
       "    }\n",
       "\n",
       "    .dataframe tbody tr th {\n",
       "        vertical-align: top;\n",
       "    }\n",
       "\n",
       "    .dataframe thead th {\n",
       "        text-align: right;\n",
       "    }\n",
       "</style>\n",
       "<table border=\"1\" class=\"dataframe\">\n",
       "  <thead>\n",
       "    <tr style=\"text-align: right;\">\n",
       "      <th></th>\n",
       "      <th>Food</th>\n",
       "      <th>Weight</th>\n",
       "      <th>Price</th>\n",
       "      <th>Type</th>\n",
       "      <th>File</th>\n",
       "      <th>MenuDate</th>\n",
       "    </tr>\n",
       "  </thead>\n",
       "  <tbody>\n",
       "    <tr>\n",
       "      <th>16422</th>\n",
       "      <td>Пудинг из творога</td>\n",
       "      <td>150.0</td>\n",
       "      <td>2.35</td>\n",
       "      <td>Сладкие блюда</td>\n",
       "      <td>Меню с 29.07.xls</td>\n",
       "      <td>2019-08-02</td>\n",
       "    </tr>\n",
       "    <tr>\n",
       "      <th>16423</th>\n",
       "      <td>Напиток лимонный</td>\n",
       "      <td>0.2</td>\n",
       "      <td>0.60</td>\n",
       "      <td>Напитки</td>\n",
       "      <td>Меню с 29.07.xls</td>\n",
       "      <td>2019-08-02</td>\n",
       "    </tr>\n",
       "    <tr>\n",
       "      <th>16424</th>\n",
       "      <td>Французская булочка с чесночной начинкой</td>\n",
       "      <td>1.0</td>\n",
       "      <td>0.70</td>\n",
       "      <td>Хлеб, хлебобулочные изделия</td>\n",
       "      <td>Меню с 29.07.xls</td>\n",
       "      <td>2019-08-02</td>\n",
       "    </tr>\n",
       "    <tr>\n",
       "      <th>16425</th>\n",
       "      <td>Хлеб \"Чиабатта\"</td>\n",
       "      <td>1.0</td>\n",
       "      <td>1.15</td>\n",
       "      <td>Хлеб, хлебобулочные изделия</td>\n",
       "      <td>Меню с 29.07.xls</td>\n",
       "      <td>2019-08-02</td>\n",
       "    </tr>\n",
       "    <tr>\n",
       "      <th>16426</th>\n",
       "      <td>Хлеб</td>\n",
       "      <td>2.0</td>\n",
       "      <td>0.18</td>\n",
       "      <td>Хлеб, хлебобулочные изделия</td>\n",
       "      <td>Меню с 29.07.xls</td>\n",
       "      <td>2019-08-02</td>\n",
       "    </tr>\n",
       "  </tbody>\n",
       "</table>\n",
       "</div>"
      ],
      "text/plain": [
       "                                           Food  Weight  Price  \\\n",
       "16422                         Пудинг из творога   150.0   2.35   \n",
       "16423                          Напиток лимонный     0.2   0.60   \n",
       "16424  Французская булочка с чесночной начинкой     1.0   0.70   \n",
       "16425                           Хлеб \"Чиабатта\"     1.0   1.15   \n",
       "16426                                      Хлеб     2.0   0.18   \n",
       "\n",
       "                              Type              File   MenuDate  \n",
       "16422                Сладкие блюда  Меню с 29.07.xls 2019-08-02  \n",
       "16423                      Напитки  Меню с 29.07.xls 2019-08-02  \n",
       "16424  Хлеб, хлебобулочные изделия  Меню с 29.07.xls 2019-08-02  \n",
       "16425  Хлеб, хлебобулочные изделия  Меню с 29.07.xls 2019-08-02  \n",
       "16426  Хлеб, хлебобулочные изделия  Меню с 29.07.xls 2019-08-02  "
      ]
     },
     "execution_count": 49,
     "metadata": {},
     "output_type": "execute_result"
    }
   ],
   "source": [
    "df_date_price_weight_proc.tail()"
   ]
  },
  {
   "cell_type": "code",
   "execution_count": 50,
   "metadata": {},
   "outputs": [
    {
     "data": {
      "text/plain": [
       "(13407, 6)"
      ]
     },
     "execution_count": 50,
     "metadata": {},
     "output_type": "execute_result"
    }
   ],
   "source": [
    "df_date_price_weight_proc.shape"
   ]
  },
  {
   "cell_type": "code",
   "execution_count": 51,
   "metadata": {},
   "outputs": [
    {
     "data": {
      "text/html": [
       "<div>\n",
       "<style scoped>\n",
       "    .dataframe tbody tr th:only-of-type {\n",
       "        vertical-align: middle;\n",
       "    }\n",
       "\n",
       "    .dataframe tbody tr th {\n",
       "        vertical-align: top;\n",
       "    }\n",
       "\n",
       "    .dataframe thead th {\n",
       "        text-align: right;\n",
       "    }\n",
       "</style>\n",
       "<table border=\"1\" class=\"dataframe\">\n",
       "  <thead>\n",
       "    <tr style=\"text-align: right;\">\n",
       "      <th></th>\n",
       "      <th>Food</th>\n",
       "      <th>Weight</th>\n",
       "      <th>Price</th>\n",
       "      <th>Type</th>\n",
       "      <th>File</th>\n",
       "      <th>MenuDate</th>\n",
       "    </tr>\n",
       "  </thead>\n",
       "  <tbody>\n",
       "    <tr>\n",
       "      <th>1815</th>\n",
       "      <td>Горчица</td>\n",
       "      <td>NaN</td>\n",
       "      <td>0.25</td>\n",
       "      <td>Соусы</td>\n",
       "      <td>Меню с 05.02 по 09.02.2018г.xls</td>\n",
       "      <td>2018-02-06</td>\n",
       "    </tr>\n",
       "    <tr>\n",
       "      <th>1816</th>\n",
       "      <td>Сметана</td>\n",
       "      <td>NaN</td>\n",
       "      <td>0.50</td>\n",
       "      <td>Соусы</td>\n",
       "      <td>Меню с 05.02 по 09.02.2018г.xls</td>\n",
       "      <td>2018-02-06</td>\n",
       "    </tr>\n",
       "    <tr>\n",
       "      <th>1817</th>\n",
       "      <td>Соус соевый</td>\n",
       "      <td>NaN</td>\n",
       "      <td>0.25</td>\n",
       "      <td>Соусы</td>\n",
       "      <td>Меню с 05.02 по 09.02.2018г.xls</td>\n",
       "      <td>2018-02-06</td>\n",
       "    </tr>\n",
       "    <tr>\n",
       "      <th>1818</th>\n",
       "      <td>Кетчуп/ майонез</td>\n",
       "      <td>NaN</td>\n",
       "      <td>0.25</td>\n",
       "      <td>Соусы</td>\n",
       "      <td>Меню с 05.02 по 09.02.2018г.xls</td>\n",
       "      <td>2018-02-06</td>\n",
       "    </tr>\n",
       "    <tr>\n",
       "      <th>2792</th>\n",
       "      <td>Бендерики с курицей</td>\n",
       "      <td>NaN</td>\n",
       "      <td>2.95</td>\n",
       "      <td>Вторые блюда</td>\n",
       "      <td>Меню с 09.04 по 14.04.2018г..xls</td>\n",
       "      <td>2018-04-11</td>\n",
       "    </tr>\n",
       "    <tr>\n",
       "      <th>2793</th>\n",
       "      <td>Вареники с картофелем и грибами</td>\n",
       "      <td>NaN</td>\n",
       "      <td>1.80</td>\n",
       "      <td>Вторые блюда</td>\n",
       "      <td>Меню с 09.04 по 14.04.2018г..xls</td>\n",
       "      <td>2018-04-11</td>\n",
       "    </tr>\n",
       "    <tr>\n",
       "      <th>3727</th>\n",
       "      <td>Зефир в шоколаде,зефир бело-розовый</td>\n",
       "      <td>NaN</td>\n",
       "      <td>NaN</td>\n",
       "      <td>Блинчики с творогом и сметаной</td>\n",
       "      <td>Меню с 12.02 по 16.02.2018г.xls</td>\n",
       "      <td>2018-02-12</td>\n",
       "    </tr>\n",
       "    <tr>\n",
       "      <th>10529</th>\n",
       "      <td>Беляши с мясом</td>\n",
       "      <td>NaN</td>\n",
       "      <td>NaN</td>\n",
       "      <td>Вторые блюда</td>\n",
       "      <td>Меню с 24-28 сентября.xls</td>\n",
       "      <td>2018-09-27</td>\n",
       "    </tr>\n",
       "  </tbody>\n",
       "</table>\n",
       "</div>"
      ],
      "text/plain": [
       "                                      Food  Weight  Price  \\\n",
       "1815                               Горчица     NaN   0.25   \n",
       "1816                               Сметана     NaN   0.50   \n",
       "1817                           Соус соевый     NaN   0.25   \n",
       "1818                       Кетчуп/ майонез     NaN   0.25   \n",
       "2792                   Бендерики с курицей     NaN   2.95   \n",
       "2793       Вареники с картофелем и грибами     NaN   1.80   \n",
       "3727   Зефир в шоколаде,зефир бело-розовый     NaN    NaN   \n",
       "10529                       Беляши с мясом     NaN    NaN   \n",
       "\n",
       "                                 Type                              File  \\\n",
       "1815                            Соусы   Меню с 05.02 по 09.02.2018г.xls   \n",
       "1816                            Соусы   Меню с 05.02 по 09.02.2018г.xls   \n",
       "1817                            Соусы   Меню с 05.02 по 09.02.2018г.xls   \n",
       "1818                            Соусы   Меню с 05.02 по 09.02.2018г.xls   \n",
       "2792                     Вторые блюда  Меню с 09.04 по 14.04.2018г..xls   \n",
       "2793                     Вторые блюда  Меню с 09.04 по 14.04.2018г..xls   \n",
       "3727   Блинчики с творогом и сметаной   Меню с 12.02 по 16.02.2018г.xls   \n",
       "10529                    Вторые блюда         Меню с 24-28 сентября.xls   \n",
       "\n",
       "        MenuDate  \n",
       "1815  2018-02-06  \n",
       "1816  2018-02-06  \n",
       "1817  2018-02-06  \n",
       "1818  2018-02-06  \n",
       "2792  2018-04-11  \n",
       "2793  2018-04-11  \n",
       "3727  2018-02-12  \n",
       "10529 2018-09-27  "
      ]
     },
     "execution_count": 51,
     "metadata": {},
     "output_type": "execute_result"
    }
   ],
   "source": [
    "df_date_price_weight_proc[df_date_price_weight_proc.Weight.isna()]"
   ]
  },
  {
   "cell_type": "code",
   "execution_count": 52,
   "metadata": {},
   "outputs": [],
   "source": [
    "df_date_price_weight_proc.dropna(inplace=True)"
   ]
  },
  {
   "cell_type": "code",
   "execution_count": 53,
   "metadata": {},
   "outputs": [
    {
     "data": {
      "text/plain": [
       "(11433, 6)"
      ]
     },
     "execution_count": 53,
     "metadata": {},
     "output_type": "execute_result"
    }
   ],
   "source": [
    "df_date_price_weight_proc.shape"
   ]
  },
  {
   "cell_type": "code",
   "execution_count": 54,
   "metadata": {},
   "outputs": [],
   "source": [
    "df_date_price_weight_proc['CostPerUnit'] = \\\n",
    "    df_date_price_weight_proc['Price'] / df_date_price_weight_proc['Weight']"
   ]
  },
  {
   "cell_type": "code",
   "execution_count": 55,
   "metadata": {},
   "outputs": [
    {
     "data": {
      "text/html": [
       "<div>\n",
       "<style scoped>\n",
       "    .dataframe tbody tr th:only-of-type {\n",
       "        vertical-align: middle;\n",
       "    }\n",
       "\n",
       "    .dataframe tbody tr th {\n",
       "        vertical-align: top;\n",
       "    }\n",
       "\n",
       "    .dataframe thead th {\n",
       "        text-align: right;\n",
       "    }\n",
       "</style>\n",
       "<table border=\"1\" class=\"dataframe\">\n",
       "  <thead>\n",
       "    <tr style=\"text-align: right;\">\n",
       "      <th></th>\n",
       "      <th>Food</th>\n",
       "      <th>Weight</th>\n",
       "      <th>Price</th>\n",
       "      <th>Type</th>\n",
       "      <th>File</th>\n",
       "      <th>MenuDate</th>\n",
       "      <th>CostPerUnit</th>\n",
       "    </tr>\n",
       "  </thead>\n",
       "  <tbody>\n",
       "    <tr>\n",
       "      <th>3</th>\n",
       "      <td>Суп-харчо</td>\n",
       "      <td>250.0</td>\n",
       "      <td>2.05</td>\n",
       "      <td>Супы</td>\n",
       "      <td>Меню 14 января.xls</td>\n",
       "      <td>2019-01-14</td>\n",
       "      <td>0.008200</td>\n",
       "    </tr>\n",
       "    <tr>\n",
       "      <th>4</th>\n",
       "      <td>Суп картофельный с фасолью и курицей</td>\n",
       "      <td>250.0</td>\n",
       "      <td>1.58</td>\n",
       "      <td>Супы</td>\n",
       "      <td>Меню 14 января.xls</td>\n",
       "      <td>2019-01-14</td>\n",
       "      <td>0.006320</td>\n",
       "    </tr>\n",
       "    <tr>\n",
       "      <th>5</th>\n",
       "      <td>Суп-пюре из бобовых</td>\n",
       "      <td>250.0</td>\n",
       "      <td>1.70</td>\n",
       "      <td>Супы</td>\n",
       "      <td>Меню 14 января.xls</td>\n",
       "      <td>2019-01-14</td>\n",
       "      <td>0.006800</td>\n",
       "    </tr>\n",
       "    <tr>\n",
       "      <th>6</th>\n",
       "      <td>Капрезе из грудки</td>\n",
       "      <td>140.0</td>\n",
       "      <td>4.10</td>\n",
       "      <td>Вторые блюда</td>\n",
       "      <td>Меню 14 января.xls</td>\n",
       "      <td>2019-01-14</td>\n",
       "      <td>0.029286</td>\n",
       "    </tr>\n",
       "    <tr>\n",
       "      <th>7</th>\n",
       "      <td>Бифштек\"Смак\"</td>\n",
       "      <td>95.0</td>\n",
       "      <td>2.20</td>\n",
       "      <td>Вторые блюда</td>\n",
       "      <td>Меню 14 января.xls</td>\n",
       "      <td>2019-01-14</td>\n",
       "      <td>0.023158</td>\n",
       "    </tr>\n",
       "  </tbody>\n",
       "</table>\n",
       "</div>"
      ],
      "text/plain": [
       "                                   Food  Weight  Price          Type  \\\n",
       "3                             Суп-харчо   250.0   2.05          Супы   \n",
       "4  Суп картофельный с фасолью и курицей   250.0   1.58          Супы   \n",
       "5                   Суп-пюре из бобовых   250.0   1.70          Супы   \n",
       "6                     Капрезе из грудки   140.0   4.10  Вторые блюда   \n",
       "7                         Бифштек\"Смак\"    95.0   2.20  Вторые блюда   \n",
       "\n",
       "                 File   MenuDate  CostPerUnit  \n",
       "3  Меню 14 января.xls 2019-01-14     0.008200  \n",
       "4  Меню 14 января.xls 2019-01-14     0.006320  \n",
       "5  Меню 14 января.xls 2019-01-14     0.006800  \n",
       "6  Меню 14 января.xls 2019-01-14     0.029286  \n",
       "7  Меню 14 января.xls 2019-01-14     0.023158  "
      ]
     },
     "execution_count": 55,
     "metadata": {},
     "output_type": "execute_result"
    }
   ],
   "source": [
    "df_date_price_weight_proc.head()"
   ]
  },
  {
   "cell_type": "code",
   "execution_count": 56,
   "metadata": {},
   "outputs": [
    {
     "data": {
      "text/plain": [
       "count    11433.000000\n",
       "mean         0.636094\n",
       "std          1.705081\n",
       "min          0.003000\n",
       "25%          0.010000\n",
       "50%          0.027125\n",
       "75%          0.650000\n",
       "max         20.000000\n",
       "Name: CostPerUnit, dtype: float64"
      ]
     },
     "execution_count": 56,
     "metadata": {},
     "output_type": "execute_result"
    }
   ],
   "source": [
    "df_date_price_weight_proc.CostPerUnit.describe()"
   ]
  },
  {
   "cell_type": "code",
   "execution_count": 57,
   "metadata": {},
   "outputs": [
    {
     "data": {
      "text/html": [
       "<div>\n",
       "<style scoped>\n",
       "    .dataframe tbody tr th:only-of-type {\n",
       "        vertical-align: middle;\n",
       "    }\n",
       "\n",
       "    .dataframe tbody tr th {\n",
       "        vertical-align: top;\n",
       "    }\n",
       "\n",
       "    .dataframe thead th {\n",
       "        text-align: right;\n",
       "    }\n",
       "</style>\n",
       "<table border=\"1\" class=\"dataframe\">\n",
       "  <thead>\n",
       "    <tr style=\"text-align: right;\">\n",
       "      <th></th>\n",
       "      <th>Food</th>\n",
       "      <th>Weight</th>\n",
       "      <th>Price</th>\n",
       "      <th>Type</th>\n",
       "      <th>File</th>\n",
       "      <th>MenuDate</th>\n",
       "      <th>CostPerUnit</th>\n",
       "    </tr>\n",
       "  </thead>\n",
       "  <tbody>\n",
       "    <tr>\n",
       "      <th>970</th>\n",
       "      <td>Сок\"Рич\"в ассортименте 1л</td>\n",
       "      <td>0.2</td>\n",
       "      <td>4.0</td>\n",
       "      <td>Напитки</td>\n",
       "      <td>Меню с 03.01 по 05.01.2018г -.xls</td>\n",
       "      <td>2018-01-03</td>\n",
       "      <td>20.0</td>\n",
       "    </tr>\n",
       "    <tr>\n",
       "      <th>1020</th>\n",
       "      <td>Сок\"Рич\"в ассортименте 1л</td>\n",
       "      <td>0.2</td>\n",
       "      <td>4.0</td>\n",
       "      <td>Напитки</td>\n",
       "      <td>Меню с 03.01 по 05.01.2018г -.xls</td>\n",
       "      <td>2018-01-04</td>\n",
       "      <td>20.0</td>\n",
       "    </tr>\n",
       "    <tr>\n",
       "      <th>1070</th>\n",
       "      <td>Сок\"Рич\"в ассортименте 1л</td>\n",
       "      <td>0.2</td>\n",
       "      <td>4.0</td>\n",
       "      <td>Напитки</td>\n",
       "      <td>Меню с 03.01 по 05.01.2018г -.xls</td>\n",
       "      <td>2018-01-05</td>\n",
       "      <td>20.0</td>\n",
       "    </tr>\n",
       "    <tr>\n",
       "      <th>1454</th>\n",
       "      <td>Сок\"Рич\"в ассортименте 1л</td>\n",
       "      <td>0.2</td>\n",
       "      <td>4.0</td>\n",
       "      <td>Напитки</td>\n",
       "      <td>Меню с 04.12 по 08.12.2017г.xls</td>\n",
       "      <td>2017-12-04</td>\n",
       "      <td>20.0</td>\n",
       "    </tr>\n",
       "    <tr>\n",
       "      <th>1500</th>\n",
       "      <td>Сок\"Рич\"в ассортименте 1л</td>\n",
       "      <td>0.2</td>\n",
       "      <td>4.0</td>\n",
       "      <td>Напитки</td>\n",
       "      <td>Меню с 04.12 по 08.12.2017г.xls</td>\n",
       "      <td>2017-12-05</td>\n",
       "      <td>20.0</td>\n",
       "    </tr>\n",
       "  </tbody>\n",
       "</table>\n",
       "</div>"
      ],
      "text/plain": [
       "                           Food  Weight  Price     Type  \\\n",
       "970   Сок\"Рич\"в ассортименте 1л     0.2    4.0  Напитки   \n",
       "1020  Сок\"Рич\"в ассортименте 1л     0.2    4.0  Напитки   \n",
       "1070  Сок\"Рич\"в ассортименте 1л     0.2    4.0  Напитки   \n",
       "1454  Сок\"Рич\"в ассортименте 1л     0.2    4.0  Напитки   \n",
       "1500  Сок\"Рич\"в ассортименте 1л     0.2    4.0  Напитки   \n",
       "\n",
       "                                   File   MenuDate  CostPerUnit  \n",
       "970   Меню с 03.01 по 05.01.2018г -.xls 2018-01-03         20.0  \n",
       "1020  Меню с 03.01 по 05.01.2018г -.xls 2018-01-04         20.0  \n",
       "1070  Меню с 03.01 по 05.01.2018г -.xls 2018-01-05         20.0  \n",
       "1454    Меню с 04.12 по 08.12.2017г.xls 2017-12-04         20.0  \n",
       "1500    Меню с 04.12 по 08.12.2017г.xls 2017-12-05         20.0  "
      ]
     },
     "execution_count": 57,
     "metadata": {},
     "output_type": "execute_result"
    }
   ],
   "source": [
    "df_date_price_weight_proc[df_date_price_weight_proc.CostPerUnit >= 20].head()"
   ]
  },
  {
   "cell_type": "markdown",
   "metadata": {},
   "source": [
    "Conversion to CostPerUnit is incorrect. Need to take into account \"1л\" in Food description and disregard the `Weight` value."
   ]
  },
  {
   "cell_type": "code",
   "execution_count": 58,
   "metadata": {},
   "outputs": [
    {
     "data": {
      "text/html": [
       "<div>\n",
       "<style scoped>\n",
       "    .dataframe tbody tr th:only-of-type {\n",
       "        vertical-align: middle;\n",
       "    }\n",
       "\n",
       "    .dataframe tbody tr th {\n",
       "        vertical-align: top;\n",
       "    }\n",
       "\n",
       "    .dataframe thead th {\n",
       "        text-align: right;\n",
       "    }\n",
       "</style>\n",
       "<table border=\"1\" class=\"dataframe\">\n",
       "  <thead>\n",
       "    <tr style=\"text-align: right;\">\n",
       "      <th></th>\n",
       "      <th>Food</th>\n",
       "      <th>Weight</th>\n",
       "      <th>Price</th>\n",
       "      <th>Type</th>\n",
       "      <th>File</th>\n",
       "      <th>MenuDate</th>\n",
       "      <th>CostPerUnit</th>\n",
       "    </tr>\n",
       "  </thead>\n",
       "  <tbody>\n",
       "    <tr>\n",
       "      <th>21</th>\n",
       "      <td>Французская булочка с чесночной начиной</td>\n",
       "      <td>1.0</td>\n",
       "      <td>0.70</td>\n",
       "      <td>Хлеб, хлебобулочные изделия</td>\n",
       "      <td>Меню 14 января.xls</td>\n",
       "      <td>2019-01-14</td>\n",
       "      <td>0.70</td>\n",
       "    </tr>\n",
       "    <tr>\n",
       "      <th>22</th>\n",
       "      <td>Хлеб \"Чиабатта\"</td>\n",
       "      <td>1.0</td>\n",
       "      <td>1.15</td>\n",
       "      <td>Хлеб, хлебобулочные изделия</td>\n",
       "      <td>Меню 14 января.xls</td>\n",
       "      <td>2019-01-14</td>\n",
       "      <td>1.15</td>\n",
       "    </tr>\n",
       "    <tr>\n",
       "      <th>47</th>\n",
       "      <td>Французская булочка с чесночной начиной</td>\n",
       "      <td>1.0</td>\n",
       "      <td>0.70</td>\n",
       "      <td>Хлеб, хлебобулочные изделия</td>\n",
       "      <td>Меню 19 октября.xls</td>\n",
       "      <td>2018-10-19</td>\n",
       "      <td>0.70</td>\n",
       "    </tr>\n",
       "    <tr>\n",
       "      <th>48</th>\n",
       "      <td>Хлеб \"Чиабатта\"</td>\n",
       "      <td>1.0</td>\n",
       "      <td>1.15</td>\n",
       "      <td>Хлеб, хлебобулочные изделия</td>\n",
       "      <td>Меню 19 октября.xls</td>\n",
       "      <td>2018-10-19</td>\n",
       "      <td>1.15</td>\n",
       "    </tr>\n",
       "    <tr>\n",
       "      <th>73</th>\n",
       "      <td>Французская булочка с чесночной начиной</td>\n",
       "      <td>1.0</td>\n",
       "      <td>0.70</td>\n",
       "      <td>Хлеб, хлебобулочные изделия</td>\n",
       "      <td>Меню 22 октября.xls</td>\n",
       "      <td>2018-10-22</td>\n",
       "      <td>0.70</td>\n",
       "    </tr>\n",
       "  </tbody>\n",
       "</table>\n",
       "</div>"
      ],
      "text/plain": [
       "                                       Food  Weight  Price  \\\n",
       "21  Французская булочка с чесночной начиной     1.0   0.70   \n",
       "22                          Хлеб \"Чиабатта\"     1.0   1.15   \n",
       "47  Французская булочка с чесночной начиной     1.0   0.70   \n",
       "48                          Хлеб \"Чиабатта\"     1.0   1.15   \n",
       "73  Французская булочка с чесночной начиной     1.0   0.70   \n",
       "\n",
       "                           Type                 File   MenuDate  CostPerUnit  \n",
       "21  Хлеб, хлебобулочные изделия   Меню 14 января.xls 2019-01-14         0.70  \n",
       "22  Хлеб, хлебобулочные изделия   Меню 14 января.xls 2019-01-14         1.15  \n",
       "47  Хлеб, хлебобулочные изделия  Меню 19 октября.xls 2018-10-19         0.70  \n",
       "48  Хлеб, хлебобулочные изделия  Меню 19 октября.xls 2018-10-19         1.15  \n",
       "73  Хлеб, хлебобулочные изделия  Меню 22 октября.xls 2018-10-22         0.70  "
      ]
     },
     "execution_count": 58,
     "metadata": {},
     "output_type": "execute_result"
    }
   ],
   "source": [
    "df_date_price_weight_proc[df_date_price_weight_proc.CostPerUnit.between(0.6, 2)].head()"
   ]
  },
  {
   "cell_type": "code",
   "execution_count": 59,
   "metadata": {},
   "outputs": [
    {
     "data": {
      "text/plain": [
       "Food                    Хлеб \"Чиабатта\"\n",
       "Weight                              шт.\n",
       "Price                      1 руб 15 коп\n",
       "Type        Хлеб, хлебобулочные изделия\n",
       "Key                          14.01.2019\n",
       "Date                         2019-01-14\n",
       "File                 Меню 14 января.xls\n",
       "MenuDate            2019-01-14 00:00:00\n",
       "Name: 22, dtype: object"
      ]
     },
     "execution_count": 59,
     "metadata": {},
     "output_type": "execute_result"
    }
   ],
   "source": [
    "df.loc[22]"
   ]
  },
  {
   "cell_type": "markdown",
   "metadata": {},
   "source": [
    "Also the \"шт.\" to 1.0 conversion seems to be wrong."
   ]
  },
  {
   "cell_type": "markdown",
   "metadata": {},
   "source": [
    "### Dealing with menu types"
   ]
  },
  {
   "cell_type": "code",
   "execution_count": 60,
   "metadata": {},
   "outputs": [
    {
     "data": {
      "text/plain": [
       "0"
      ]
     },
     "execution_count": 60,
     "metadata": {},
     "output_type": "execute_result"
    }
   ],
   "source": [
    "df_date_price_weight_proc.Type.isna().sum()"
   ]
  },
  {
   "cell_type": "code",
   "execution_count": 61,
   "metadata": {},
   "outputs": [
    {
     "data": {
      "text/plain": [
       "Type\n",
       "Вторые блюда                                       2212\n",
       "Сладкие блюда                                      1824\n",
       "Соусы                                              1785\n",
       "Гарниры                                            1777\n",
       "Хлеб, хлебобулочные изделия                        1371\n",
       "Супы                                               1179\n",
       "Напитки                                            1084\n",
       "Фрукты                                               73\n",
       "напитки                                              31\n",
       "Напиток клюквенный                                   10\n",
       "Салаты                                               10\n",
       "Обеденное меню 13.04.2018г. Приятного аппетита!       5\n",
       "Ножки куриные в медовом соусе NEW                     5\n",
       "Обеденное меню 09.04.2018г. Приятного аппетита!       5\n",
       "Обеденное меню 10.04.2018г. Приятного аппетита!       5\n",
       "Обеденное меню 11.04.2018г. Приятного аппетита!       5\n",
       "Обеденное меню 12.04.2018г. Приятного аппетита!       5\n",
       "Обеденное меню 14.04.2018г. Приятного аппетита!       5\n",
       "Обеденное меню 27.04.2018г. Приятного аппетита!       5\n",
       "Обеденное меню 28.04.2018г. Приятного аппетита!       5\n",
       "Тефтели по-норвежски                                  5\n",
       "Перцы фаршированные                                   4\n",
       "Морковь пряная                                        4\n",
       "Кальмары фаршированные                                4\n",
       "Салат\"Весенний\"                                       3\n",
       "Бедро птицы жареное                                   3\n",
       "Плов с сухофруктами (вегетарианский)                  2\n",
       "Уха \"Рыбацкая\"                                        2\n",
       "Филе птицы с помидором                                2\n",
       "Стейк из свинины                                      1\n",
       "Лазанья мясная                                        1\n",
       "Курино филе с ананасом                                1\n",
       "dtype: int64"
      ]
     },
     "execution_count": 61,
     "metadata": {},
     "output_type": "execute_result"
    }
   ],
   "source": [
    "df_date_price_weight_proc.groupby('Type').size().sort_values(ascending=False)"
   ]
  },
  {
   "cell_type": "markdown",
   "metadata": {},
   "source": [
    "Incorrectly formatted or parsed data have type size less than 30. It would be better to exclude them from the dataset for now. Another options is to subset a predifined types only."
   ]
  },
  {
   "cell_type": "code",
   "execution_count": 62,
   "metadata": {},
   "outputs": [],
   "source": [
    "types = ['Вторые блюда', 'Сладкие блюда', 'Соусы', 'Гарниры', 'Хлеб, хлебобулочные изделия', 'Супы', 'Напитки', 'Фрукты']"
   ]
  },
  {
   "cell_type": "code",
   "execution_count": 63,
   "metadata": {},
   "outputs": [
    {
     "data": {
      "text/plain": [
       "['вторые блюда',\n",
       " 'сладкие блюда',\n",
       " 'соусы',\n",
       " 'гарниры',\n",
       " 'хлеб, хлебобулочные изделия',\n",
       " 'супы',\n",
       " 'напитки',\n",
       " 'фрукты']"
      ]
     },
     "execution_count": 63,
     "metadata": {},
     "output_type": "execute_result"
    }
   ],
   "source": [
    "types = [tt.lower() for tt in types]\n",
    "types"
   ]
  },
  {
   "cell_type": "code",
   "execution_count": 64,
   "metadata": {},
   "outputs": [],
   "source": [
    "df_date_price_weight_type_proc = \\\n",
    "    df_date_price_weight_proc[df_date_price_weight_proc.Type.str.lower().isin(types)]"
   ]
  },
  {
   "cell_type": "code",
   "execution_count": 65,
   "metadata": {},
   "outputs": [
    {
     "data": {
      "text/plain": [
       "Вторые блюда                   2212\n",
       "Сладкие блюда                  1824\n",
       "Соусы                          1785\n",
       "Гарниры                        1777\n",
       "Хлеб, хлебобулочные изделия    1371\n",
       "Супы                           1179\n",
       "Напитки                        1084\n",
       "Фрукты                           73\n",
       "напитки                          31\n",
       "Name: Type, dtype: int64"
      ]
     },
     "execution_count": 65,
     "metadata": {},
     "output_type": "execute_result"
    }
   ],
   "source": [
    "df_date_price_weight_type_proc.Type.value_counts()"
   ]
  },
  {
   "cell_type": "markdown",
   "metadata": {},
   "source": [
    "There are two similar categories that are needed to be brough together: \"Напитки\" and \"напитки\". We need to take into account such cases and process them accordingly."
   ]
  },
  {
   "cell_type": "code",
   "execution_count": 66,
   "metadata": {},
   "outputs": [],
   "source": [
    "def merge_groups(indf, group_column, base_group_name, related_group_names):\n",
    "    \"\"\"\n",
    "    Replace all groups in the related_group_names list with base_group_name\n",
    "    in the indf data frame. Replacements are done in the group_column\n",
    "    \"\"\"\n",
    "    df_out = indf.copy()\n",
    "    df_out.loc[df_out[group_column].isin(related_group_names), group_column] = base_group_name\n",
    "    return df_out"
   ]
  },
  {
   "cell_type": "code",
   "execution_count": 67,
   "metadata": {},
   "outputs": [],
   "source": [
    "df_date_price_weight_type_proc = merge_groups(df_date_price_weight_type_proc, \n",
    "                                              'Type', 'Напитки', ['напитки'])"
   ]
  },
  {
   "cell_type": "code",
   "execution_count": 68,
   "metadata": {},
   "outputs": [
    {
     "data": {
      "text/plain": [
       "((16427, 8), (11336, 7))"
      ]
     },
     "execution_count": 68,
     "metadata": {},
     "output_type": "execute_result"
    }
   ],
   "source": [
    "df.shape, df_date_price_weight_type_proc.shape"
   ]
  },
  {
   "cell_type": "markdown",
   "metadata": {},
   "source": [
    "Summary on prices in each menu category."
   ]
  },
  {
   "cell_type": "code",
   "execution_count": 69,
   "metadata": {},
   "outputs": [
    {
     "data": {
      "text/html": [
       "<div>\n",
       "<style scoped>\n",
       "    .dataframe tbody tr th:only-of-type {\n",
       "        vertical-align: middle;\n",
       "    }\n",
       "\n",
       "    .dataframe tbody tr th {\n",
       "        vertical-align: top;\n",
       "    }\n",
       "\n",
       "    .dataframe thead th {\n",
       "        text-align: right;\n",
       "    }\n",
       "</style>\n",
       "<table border=\"1\" class=\"dataframe\">\n",
       "  <thead>\n",
       "    <tr style=\"text-align: right;\">\n",
       "      <th></th>\n",
       "      <th>count</th>\n",
       "      <th>mean</th>\n",
       "      <th>std</th>\n",
       "      <th>min</th>\n",
       "      <th>25%</th>\n",
       "      <th>50%</th>\n",
       "      <th>75%</th>\n",
       "      <th>max</th>\n",
       "    </tr>\n",
       "    <tr>\n",
       "      <th>Type</th>\n",
       "      <th></th>\n",
       "      <th></th>\n",
       "      <th></th>\n",
       "      <th></th>\n",
       "      <th></th>\n",
       "      <th></th>\n",
       "      <th></th>\n",
       "      <th></th>\n",
       "    </tr>\n",
       "  </thead>\n",
       "  <tbody>\n",
       "    <tr>\n",
       "      <th>Вторые блюда</th>\n",
       "      <td>2212.0</td>\n",
       "      <td>0.032546</td>\n",
       "      <td>0.013547</td>\n",
       "      <td>0.008333</td>\n",
       "      <td>0.023043</td>\n",
       "      <td>0.031843</td>\n",
       "      <td>0.039000</td>\n",
       "      <td>0.13310</td>\n",
       "    </tr>\n",
       "    <tr>\n",
       "      <th>Гарниры</th>\n",
       "      <td>1777.0</td>\n",
       "      <td>0.007857</td>\n",
       "      <td>0.006546</td>\n",
       "      <td>0.003000</td>\n",
       "      <td>0.004200</td>\n",
       "      <td>0.006000</td>\n",
       "      <td>0.012533</td>\n",
       "      <td>0.15400</td>\n",
       "    </tr>\n",
       "    <tr>\n",
       "      <th>Напитки</th>\n",
       "      <td>1115.0</td>\n",
       "      <td>4.164637</td>\n",
       "      <td>3.743212</td>\n",
       "      <td>0.090000</td>\n",
       "      <td>3.000000</td>\n",
       "      <td>3.450000</td>\n",
       "      <td>4.250000</td>\n",
       "      <td>20.00000</td>\n",
       "    </tr>\n",
       "    <tr>\n",
       "      <th>Сладкие блюда</th>\n",
       "      <td>1824.0</td>\n",
       "      <td>0.777624</td>\n",
       "      <td>0.647661</td>\n",
       "      <td>0.005333</td>\n",
       "      <td>0.400000</td>\n",
       "      <td>0.650000</td>\n",
       "      <td>1.000000</td>\n",
       "      <td>2.20000</td>\n",
       "    </tr>\n",
       "    <tr>\n",
       "      <th>Соусы</th>\n",
       "      <td>1785.0</td>\n",
       "      <td>0.100328</td>\n",
       "      <td>0.184059</td>\n",
       "      <td>0.009400</td>\n",
       "      <td>0.012000</td>\n",
       "      <td>0.018000</td>\n",
       "      <td>0.028667</td>\n",
       "      <td>0.50000</td>\n",
       "    </tr>\n",
       "    <tr>\n",
       "      <th>Супы</th>\n",
       "      <td>1179.0</td>\n",
       "      <td>0.006768</td>\n",
       "      <td>0.001645</td>\n",
       "      <td>0.003200</td>\n",
       "      <td>0.005460</td>\n",
       "      <td>0.006400</td>\n",
       "      <td>0.007860</td>\n",
       "      <td>0.01284</td>\n",
       "    </tr>\n",
       "    <tr>\n",
       "      <th>Фрукты</th>\n",
       "      <td>73.0</td>\n",
       "      <td>0.005018</td>\n",
       "      <td>0.000583</td>\n",
       "      <td>0.004300</td>\n",
       "      <td>0.004600</td>\n",
       "      <td>0.005000</td>\n",
       "      <td>0.005200</td>\n",
       "      <td>0.00650</td>\n",
       "    </tr>\n",
       "    <tr>\n",
       "      <th>Хлеб, хлебобулочные изделия</th>\n",
       "      <td>1371.0</td>\n",
       "      <td>0.663632</td>\n",
       "      <td>0.445480</td>\n",
       "      <td>0.090000</td>\n",
       "      <td>0.090000</td>\n",
       "      <td>0.700000</td>\n",
       "      <td>1.150000</td>\n",
       "      <td>2.20000</td>\n",
       "    </tr>\n",
       "  </tbody>\n",
       "</table>\n",
       "</div>"
      ],
      "text/plain": [
       "                              count      mean       std       min       25%  \\\n",
       "Type                                                                          \n",
       "Вторые блюда                 2212.0  0.032546  0.013547  0.008333  0.023043   \n",
       "Гарниры                      1777.0  0.007857  0.006546  0.003000  0.004200   \n",
       "Напитки                      1115.0  4.164637  3.743212  0.090000  3.000000   \n",
       "Сладкие блюда                1824.0  0.777624  0.647661  0.005333  0.400000   \n",
       "Соусы                        1785.0  0.100328  0.184059  0.009400  0.012000   \n",
       "Супы                         1179.0  0.006768  0.001645  0.003200  0.005460   \n",
       "Фрукты                         73.0  0.005018  0.000583  0.004300  0.004600   \n",
       "Хлеб, хлебобулочные изделия  1371.0  0.663632  0.445480  0.090000  0.090000   \n",
       "\n",
       "                                  50%       75%       max  \n",
       "Type                                                       \n",
       "Вторые блюда                 0.031843  0.039000   0.13310  \n",
       "Гарниры                      0.006000  0.012533   0.15400  \n",
       "Напитки                      3.450000  4.250000  20.00000  \n",
       "Сладкие блюда                0.650000  1.000000   2.20000  \n",
       "Соусы                        0.018000  0.028667   0.50000  \n",
       "Супы                         0.006400  0.007860   0.01284  \n",
       "Фрукты                       0.005000  0.005200   0.00650  \n",
       "Хлеб, хлебобулочные изделия  0.700000  1.150000   2.20000  "
      ]
     },
     "execution_count": 69,
     "metadata": {},
     "output_type": "execute_result"
    }
   ],
   "source": [
    "df_date_price_weight_type_proc.groupby('Type').CostPerUnit.describe()"
   ]
  },
  {
   "cell_type": "markdown",
   "metadata": {},
   "source": [
    "#### Вторые блюда"
   ]
  },
  {
   "cell_type": "code",
   "execution_count": 70,
   "metadata": {},
   "outputs": [
    {
     "data": {
      "text/plain": [
       "Food\n",
       "Говядина отварная                                    92\n",
       "Свинина с сыром                                      64\n",
       "Шницель из свинины                                   58\n",
       "Мясо по-французски                                   51\n",
       "Свинина с грибами                                    49\n",
       "                                                     ..\n",
       "Рулетики из птицы в горчично-сливочном соусе(NEW)     1\n",
       "Котлета \"Нясвиж\"(птица,яйцо,сыр,майонез)              1\n",
       "Котлета \"Нясвиж\"(мясо птицы,яйцо,сыр.майонез)         1\n",
       "Рыба  хек с грибами                                   1\n",
       "Котлеты\"Любительские\" (свинина,говядина)              1\n",
       "Length: 354, dtype: int64"
      ]
     },
     "execution_count": 70,
     "metadata": {},
     "output_type": "execute_result"
    }
   ],
   "source": [
    "df_date_price_weight_type_proc[df_date_price_weight_type_proc.Type == 'Вторые блюда'].\\\n",
    "    groupby('Food').size().sort_values(ascending=False)"
   ]
  },
  {
   "cell_type": "code",
   "execution_count": 71,
   "metadata": {},
   "outputs": [
    {
     "data": {
      "text/html": [
       "<div>\n",
       "<style scoped>\n",
       "    .dataframe tbody tr th:only-of-type {\n",
       "        vertical-align: middle;\n",
       "    }\n",
       "\n",
       "    .dataframe tbody tr th {\n",
       "        vertical-align: top;\n",
       "    }\n",
       "\n",
       "    .dataframe thead th {\n",
       "        text-align: right;\n",
       "    }\n",
       "</style>\n",
       "<table border=\"1\" class=\"dataframe\">\n",
       "  <thead>\n",
       "    <tr style=\"text-align: right;\">\n",
       "      <th></th>\n",
       "      <th>Food</th>\n",
       "      <th>Weight</th>\n",
       "      <th>Price</th>\n",
       "      <th>Type</th>\n",
       "      <th>File</th>\n",
       "      <th>MenuDate</th>\n",
       "      <th>CostPerUnit</th>\n",
       "    </tr>\n",
       "  </thead>\n",
       "  <tbody>\n",
       "    <tr>\n",
       "      <th>3</th>\n",
       "      <td>Суп-харчо</td>\n",
       "      <td>250.0</td>\n",
       "      <td>2.05</td>\n",
       "      <td>Супы</td>\n",
       "      <td>Меню 14 января.xls</td>\n",
       "      <td>2019-01-14</td>\n",
       "      <td>0.008200</td>\n",
       "    </tr>\n",
       "    <tr>\n",
       "      <th>4</th>\n",
       "      <td>Суп картофельный с фасолью и курицей</td>\n",
       "      <td>250.0</td>\n",
       "      <td>1.58</td>\n",
       "      <td>Супы</td>\n",
       "      <td>Меню 14 января.xls</td>\n",
       "      <td>2019-01-14</td>\n",
       "      <td>0.006320</td>\n",
       "    </tr>\n",
       "    <tr>\n",
       "      <th>5</th>\n",
       "      <td>Суп-пюре из бобовых</td>\n",
       "      <td>250.0</td>\n",
       "      <td>1.70</td>\n",
       "      <td>Супы</td>\n",
       "      <td>Меню 14 января.xls</td>\n",
       "      <td>2019-01-14</td>\n",
       "      <td>0.006800</td>\n",
       "    </tr>\n",
       "    <tr>\n",
       "      <th>6</th>\n",
       "      <td>Капрезе из грудки</td>\n",
       "      <td>140.0</td>\n",
       "      <td>4.10</td>\n",
       "      <td>Вторые блюда</td>\n",
       "      <td>Меню 14 января.xls</td>\n",
       "      <td>2019-01-14</td>\n",
       "      <td>0.029286</td>\n",
       "    </tr>\n",
       "    <tr>\n",
       "      <th>7</th>\n",
       "      <td>Бифштек\"Смак\"</td>\n",
       "      <td>95.0</td>\n",
       "      <td>2.20</td>\n",
       "      <td>Вторые блюда</td>\n",
       "      <td>Меню 14 января.xls</td>\n",
       "      <td>2019-01-14</td>\n",
       "      <td>0.023158</td>\n",
       "    </tr>\n",
       "  </tbody>\n",
       "</table>\n",
       "</div>"
      ],
      "text/plain": [
       "                                   Food  Weight  Price          Type  \\\n",
       "3                             Суп-харчо   250.0   2.05          Супы   \n",
       "4  Суп картофельный с фасолью и курицей   250.0   1.58          Супы   \n",
       "5                   Суп-пюре из бобовых   250.0   1.70          Супы   \n",
       "6                     Капрезе из грудки   140.0   4.10  Вторые блюда   \n",
       "7                         Бифштек\"Смак\"    95.0   2.20  Вторые блюда   \n",
       "\n",
       "                 File   MenuDate  CostPerUnit  \n",
       "3  Меню 14 января.xls 2019-01-14     0.008200  \n",
       "4  Меню 14 января.xls 2019-01-14     0.006320  \n",
       "5  Меню 14 января.xls 2019-01-14     0.006800  \n",
       "6  Меню 14 января.xls 2019-01-14     0.029286  \n",
       "7  Меню 14 января.xls 2019-01-14     0.023158  "
      ]
     },
     "execution_count": 71,
     "metadata": {},
     "output_type": "execute_result"
    }
   ],
   "source": [
    "df_date_price_weight_type_proc.head()"
   ]
  },
  {
   "cell_type": "code",
   "execution_count": 72,
   "metadata": {},
   "outputs": [
    {
     "data": {
      "image/png": "[encoded data removed]",
      "text/plain": [
       "<Figure size 1224x648 with 1 Axes>"
      ]
     },
     "metadata": {
      "needs_background": "light"
     },
     "output_type": "display_data"
    }
   ],
   "source": [
    "df_date_price_weight_type_proc[df_date_price_weight_type_proc.Food == 'Говядина отварная'].\\\n",
    "    plot(x='MenuDate', y='Price', figsize=(17, 9),);"
   ]
  },
  {
   "cell_type": "code",
   "execution_count": 73,
   "metadata": {},
   "outputs": [
    {
     "data": {
      "image/png": "[encoded data removed]",
      "text/plain": [
       "<Figure size 1224x648 with 1 Axes>"
      ]
     },
     "metadata": {
      "needs_background": "light"
     },
     "output_type": "display_data"
    }
   ],
   "source": [
    "df_date_price_weight_type_proc[df_date_price_weight_type_proc.Food == 'Говядина отварная'].\\\n",
    "    plot(x='MenuDate', y='CostPerUnit', figsize=(17, 9),);"
   ]
  },
  {
   "cell_type": "code",
   "execution_count": 74,
   "metadata": {},
   "outputs": [
    {
     "data": {
      "image/png": "[encoded data removed]",
      "text/plain": [
       "<Figure size 1224x648 with 1 Axes>"
      ]
     },
     "metadata": {
      "needs_background": "light"
     },
     "output_type": "display_data"
    }
   ],
   "source": [
    "df_date_price_weight_type_proc[df_date_price_weight_type_proc.Food == 'Свинина с сыром'].\\\n",
    "    plot(x='MenuDate', y='Price', figsize=(17, 9),);"
   ]
  },
  {
   "cell_type": "code",
   "execution_count": 75,
   "metadata": {},
   "outputs": [],
   "source": [
    "food = df_date_price_weight_type_proc.loc[df_date_price_weight_type_proc.Type == 'Вторые блюда', 'Food'].unique().tolist()"
   ]
  },
  {
   "cell_type": "code",
   "execution_count": 76,
   "metadata": {},
   "outputs": [
    {
     "data": {
      "text/plain": [
       "354"
      ]
     },
     "execution_count": 76,
     "metadata": {},
     "output_type": "execute_result"
    }
   ],
   "source": [
    "len(food)"
   ]
  },
  {
   "cell_type": "code",
   "execution_count": 77,
   "metadata": {},
   "outputs": [
    {
     "data": {
      "text/plain": [
       "['Антрекот',\n",
       " 'Антрекот ',\n",
       " 'Антрекот(говядина)',\n",
       " 'Бабка картофельная',\n",
       " 'Бедро птицы жаренное',\n",
       " 'Бедро птицы жареное',\n",
       " 'Бедро птицы отварное',\n",
       " 'Бендерики с курицей',\n",
       " 'Бефстроганов из говядины',\n",
       " 'Бефстрогонов из говядины',\n",
       " 'Бефстрогонов из говядины(говядина,лук,масло,специи,мука,сметана,паста томат.)',\n",
       " 'Биточки по-белоруски',\n",
       " 'Биточки по-белорусски',\n",
       " 'Биточки по-белорусски(говядина,лук,яйцо)',\n",
       " 'Биточки по-белорусски(говядина,яйцо,лук)',\n",
       " 'Биточки по-белорусски(говядина,яйцо.лук)',\n",
       " 'Бифштек\"Смак\"',\n",
       " 'Бифштекс  рубленый с луком',\n",
       " 'Бифштекс \"Смак\"',\n",
       " 'Бифштекс Смак',\n",
       " 'Бифштекс рубленый с луком',\n",
       " 'Бифштекс рубленый с яйцом',\n",
       " 'Бифштекс рубленый с яйцом(говядина таз.,молоко,яйцо)',\n",
       " 'Бифштекс с луком',\n",
       " 'Бифштекс с яйцом',\n",
       " 'Бифштекс\"Смак\"',\n",
       " 'Блинчики с ветчиной и сыром',\n",
       " 'Блинчики с грибами и сыром',\n",
       " 'Блинчики с грибами и сыром(блины,грибы,яйцо,сыр)',\n",
       " 'Веращака',\n",
       " 'Галки рыбные',\n",
       " 'Говядина , запеченная с помидорами и баклажанами',\n",
       " 'Говядина в кисло-сдадком соусе',\n",
       " 'Говядина в кисло-сладком соусе',\n",
       " 'Говядина зап. с пом. и баклажанами',\n",
       " 'Говядина запечая с помидором и баклажаном  ',\n",
       " 'Говядина отварная',\n",
       " 'Говядина отварное',\n",
       " 'Говядина с баклажанами и помидорами',\n",
       " 'Говядина с баклажанами и помидором',\n",
       " 'Говядина с помидорами  и баклажанами',\n",
       " 'Говядина с помидорами и баклажанам',\n",
       " 'Говядина с помидорами и баклажанами',\n",
       " 'Говядина с помидором и баклажанам',\n",
       " 'Говядина с помидором и баклажанами',\n",
       " 'Говядина с помидором и баклажаном',\n",
       " 'Говядина, запеченная с помидорами и бакложанами',\n",
       " 'Говядина,запеченная с помидором и баклажанами',\n",
       " 'Голубцы \"Любительские\"',\n",
       " 'Голубцы овощные',\n",
       " 'Голубцы овощные (капуста,грибы,морковь,лук,яйцо,рис,соус сметанный)',\n",
       " 'Голубцы по-Раубичски',\n",
       " 'Гречаники',\n",
       " 'Грибочки под сырной шапкой',\n",
       " 'Грибочки под сырной шапкой NEW',\n",
       " 'Гуляш из говядины',\n",
       " 'Гуляш из свинины',\n",
       " 'Гуляшь из говядины',\n",
       " 'Драники с грибныи соусом',\n",
       " 'Драники с грибным соусом',\n",
       " 'Драники с грибым соусом',\n",
       " 'Драники с морковью',\n",
       " 'Жаркое по домашнему',\n",
       " 'Жаркое по-домашнему',\n",
       " 'Запеканка Капустная',\n",
       " 'Запеканка капустная',\n",
       " 'Запеканка капустная (вегетарианская)',\n",
       " 'Запеканка капустная(капуста,яйцо,сухари,сметана)',\n",
       " 'Запеканка картофельная с мясом /картофельное пюре,помидоры,яйцо,фарш мясной,майонез/',\n",
       " 'Запеканка овощаная с куриным филе',\n",
       " 'Запеканка овощная с куриным филе',\n",
       " 'Запеканка овощная с куриным филе NEW',\n",
       " 'Зразы картофельные',\n",
       " 'Зразы картофельные (вегетарианские)',\n",
       " 'Зразы картофельные(картофель.яйцо,грибы,сухари)',\n",
       " 'Зразы рубленые',\n",
       " 'Зразы рубленые с грибами',\n",
       " 'Зразы рубленые фаршированные грибами',\n",
       " 'Зразы рубленые(свинина)',\n",
       " 'Зразы рубленые, фаршированные грибами',\n",
       " 'Зразы рубленые,фаршированные грибами',\n",
       " 'Зразы рубленые,фаршированные грибами(свинина,хлеб,грибы,яйцо)',\n",
       " 'Зразы с грибами',\n",
       " 'Зразы с рубленые',\n",
       " 'Зразы фаршированные грибами',\n",
       " 'Зразы фаршированые грибами',\n",
       " 'Кальмар фаршированный',\n",
       " 'Капрезе из грудки',\n",
       " 'Капрезо из грудки',\n",
       " 'Карпрезе из грудки',\n",
       " 'Картофельные оладьи фаршированные грибами',\n",
       " 'Картофельные оладьи, фаршированные грибами',\n",
       " 'Колбаса  из говядины с луком и грибами',\n",
       " 'Колбаса говяжья с грибами',\n",
       " 'Колбаса говяжья с грибами и луком',\n",
       " 'Колбаса говяжья с грибами луком',\n",
       " 'Колбаса говяжья с луком',\n",
       " 'Колбаса говяжья с луком и грибами',\n",
       " 'Колбаса из говядины с грибами и луком',\n",
       " 'Колбаса из говядины с луком и грибами',\n",
       " 'Колбаса куриная',\n",
       " 'Колбаса куриная жареная',\n",
       " 'Колбаса по-домашнему',\n",
       " 'Колбаска куриная жареная',\n",
       " 'Колбаски куриные жареные',\n",
       " 'Колбаски по-домашнему',\n",
       " 'Колбаски по-домашнему жареные',\n",
       " 'Колбаски по-домашнему(свинина,специи,чеснок)',\n",
       " 'Котлета  рубленные из птицы',\n",
       " 'Котлета  рыбная \"Нежность\"',\n",
       " 'Котлета \" Нясвиж\"',\n",
       " 'Котлета \" Нясвиж\"(птица,крахмал,яйцо,чеснок,сыр)',\n",
       " 'Котлета \"Курочка Ряба\"',\n",
       " 'Котлета \"Любимая\"',\n",
       " 'Котлета \"Нясвиж\"',\n",
       " 'Котлета \"Нясвиж\"(мясо птицы,яйцо,сыр.майонез)',\n",
       " 'Котлета \"Нясвиж\"(птица,яйцо,сыр,майонез)',\n",
       " 'Котлета \"Папарать-Кветка\"',\n",
       " 'Котлета \"Папараць- Кветка\"',\n",
       " 'Котлета \"Папараць- Кветка\"\\r\\r\\r\\r\\n',\n",
       " 'Котлета \"Папараць- Кветка\"\\r\\r\\r\\r\\n(цыпл.-бр., хлеб,молоко, сыр,масло сл., яйцо) ',\n",
       " 'Котлета \"Папараць- Кветка\"(мясо птицы,молоко,сыр,яйцо)\\r\\r\\r\\r\\n',\n",
       " 'Котлета \"Папараць-Кветка\"',\n",
       " 'Котлета \"Полтавская\"',\n",
       " 'Котлета \"Полтавская\"(говядина,чеснок,сухари)',\n",
       " 'Котлета \"Праздничная\"',\n",
       " 'Котлета \"Праздничная\" (свинина,грибы,чернослив,сыр,яйцо)',\n",
       " 'Котлета \"Праздничная\" (свинина,птица,шампиньоны,масло сл.,чернослив,сыр.яйцо)',\n",
       " 'Котлета \"Праздничная\"(свинина,птица,шампиньоны,масло сл.,чернослив,сыр,яйцо)',\n",
       " 'Котлета \"Праздничная\"(свинина,цып.,грибы,чернослив,сыр,яйцо)',\n",
       " 'Котлета Курочка ряба',\n",
       " 'Котлета Любимая',\n",
       " 'Котлета Нясвиж',\n",
       " 'Котлета из птицы',\n",
       " 'Котлета из птицы \"Нясвиж\"',\n",
       " 'Котлета из птицы с тмином',\n",
       " 'Котлета из птицы с тмином(меньше тмина!!)',\n",
       " 'Котлета из филе птицы \"Спатканне\"(мясо птицы,свинина,лук,морковь,хлеб)',\n",
       " 'Котлета из филе птицы Спатканне',\n",
       " 'Котлета из филе птицы фаршированное печенью',\n",
       " 'Котлета из филе птицы\"Спатканне\"',\n",
       " 'Котлета по-киевски',\n",
       " 'Котлета по-киевски\\r\\r\\r\\r\\n',\n",
       " 'Котлета по-киески',\n",
       " 'Котлета рубленая из птицы',\n",
       " 'Котлета рубленная из птицы',\n",
       " 'Котлета рубленная с тмином',\n",
       " 'Котлета рыбная \"Нежность\"',\n",
       " 'Котлета рыбная\"Нежность\"',\n",
       " 'Котлета с сыром и морковью',\n",
       " 'Котлета с сыром и морковью(свинина,морковь,сыр,яйцо,майонез)',\n",
       " 'Котлета\"Вечарница\"',\n",
       " 'Котлета\"Курочка Ряба\"',\n",
       " 'Котлета\"Курочка ряба\"',\n",
       " 'Котлета\"Любимая\"',\n",
       " 'Котлета\"Любительская\"',\n",
       " 'Котлета\"Любительская\" (свинина,говядина)',\n",
       " 'Котлета\"Любительская\"(свинина,говядина)',\n",
       " 'Котлета\"Папарать-Кветка\"',\n",
       " 'Котлета\"Папарать-кветка\"',\n",
       " 'Котлета\"Полтавская\"',\n",
       " 'Котлета\"Праздничная\"',\n",
       " 'Котлета, рубленная из птицы\\r\\r\\r\\r\\n(цыпл. бр.,молоко,масло подс., соль, приправа ун.)',\n",
       " 'Котлеты \"Вечарница\"',\n",
       " 'Котлеты \"Любительские\"',\n",
       " 'Котлеты \"Любительские\" (свинина,говядина)',\n",
       " 'Котлеты \"Любительские\"(говядина,свинина,хлеб,сухари,молоко)',\n",
       " 'Котлеты \"Любительские\"(свинина,говядина)',\n",
       " 'Котлеты \"Полтавские\"',\n",
       " 'Котлеты из птицы',\n",
       " 'Котлеты из птицы с тмином',\n",
       " 'Котлеты рубленные из птицы',\n",
       " 'Котлеты рубленые из птицы',\n",
       " 'Котлеты с сыром и морковью',\n",
       " 'Котлеты\"Любимая\"',\n",
       " 'Котлеты\"Любительские\"',\n",
       " 'Котлеты\"Любительские\" (свинина,говядина)',\n",
       " 'Котлеты\"Полтавские\"',\n",
       " 'Крылышки барбекю',\n",
       " 'Куриная грудка в беконе',\n",
       " 'Куриная грудка в беконе ',\n",
       " 'Куриные ножки в меду',\n",
       " 'Куриный конверт с ананасом',\n",
       " 'Курица \"Сытная\"',\n",
       " 'Курица \"Сытная\"(бедро,специи,сыр)',\n",
       " 'Курица \"Сытная\"(окорочек цыплят,чеснок,майонез,сыр,специи)',\n",
       " 'Курица \"Сытная\"(окорочок цыплят,чеснок,сыр,майонез)',\n",
       " 'Курица запеченая \"Сытная\"',\n",
       " 'Курица запеченная \"Сытная\"',\n",
       " 'Курица отварная',\n",
       " 'Курица\"Сытная\"',\n",
       " 'Лазанья',\n",
       " 'Лазанья мясная',\n",
       " 'Мачанка с блинами',\n",
       " 'Мочанка с блинами',\n",
       " 'Мясо отварное ( свинина)',\n",
       " 'Мясо отварное (свинина)',\n",
       " 'Мясо отварное(свинина)',\n",
       " 'Мясо отварное/свинина/',\n",
       " 'Мясо по-осеннему',\n",
       " 'Мясо по-осеннему(NEW) (говядина)',\n",
       " 'Мясо по-французки',\n",
       " 'Мясо по-французски',\n",
       " 'Мясо по-французски(свинина,лук,сыр,майонез)',\n",
       " 'Ножки куриные в меду',\n",
       " 'Ножки куриные фаршированные',\n",
       " 'Ножки куриные фаршированные NEW',\n",
       " 'Оладьи картофельные с грибами',\n",
       " 'Оладьи картофельные с мясом',\n",
       " 'Оладьи картофельные фаршированные мясом',\n",
       " 'Оладьи картофельные, фаршированные мясом',\n",
       " 'Печень говяжья с луком',\n",
       " 'Печень говяжья с луком ',\n",
       " 'Печень говяжья, жаренная с луком',\n",
       " 'Печень говяжя с луком',\n",
       " 'Печень жаренная в соусе(печень цыпл,соус сметанный с луком)',\n",
       " 'Печень жаренная с луком',\n",
       " 'Печень жаренная с луком(печень куриная,лук)',\n",
       " 'Печень куриная в соусе',\n",
       " 'Печень куриная жареная с луком',\n",
       " 'Печень куриная с луком',\n",
       " 'Печень по-строгановски',\n",
       " 'Печень по-строгоновски',\n",
       " 'Печень по-строгоновски(NEW)',\n",
       " 'Плов по-узбекски',\n",
       " 'Плов по-узбекски(рис,морковь,свинина,лук,том.паста)',\n",
       " 'Плов со свининой',\n",
       " 'Плоджарка\"Любительская\"',\n",
       " 'Поджарка \"Любительская\"',\n",
       " 'Поджарка \"Любительская\"(свинина,том.паста,грибы.лук)',\n",
       " 'Поджарка\"Любительская\"',\n",
       " 'Поджарка\"Любительская\"(свинина,грибы,лук,мука,сметана)',\n",
       " 'Птица в тесте',\n",
       " 'Рагу из овощей',\n",
       " 'Ромштекс',\n",
       " 'Ромштекс(говядина)',\n",
       " 'Ромштекс(говядина,яйцо,сухари панировачные)',\n",
       " 'Рулетики из птицы в горчично-сливочном соусе',\n",
       " 'Рулетики из птицы в горчично-сливочном соусе(NEW)',\n",
       " 'Рыба  хек',\n",
       " 'Рыба  хек в белках',\n",
       " 'Рыба  хек с грибами',\n",
       " 'Рыба в белках',\n",
       " 'Рыба в сыре',\n",
       " 'Рыба в сыре (филе хек, сыр,яйцо,масло,специи)',\n",
       " 'Рыба в сыре(хек,яйцо,сыр,мука)',\n",
       " 'Рыба в тесте',\n",
       " 'Рыба жареная в белках',\n",
       " 'Рыба жареная в сыре',\n",
       " 'Рыба жареная в тесте',\n",
       " 'Рыба жаренная в белках',\n",
       " 'Рыба жаренная в белках\\r\\r\\r\\r\\n\\r\\r\\r\\r\\n',\n",
       " 'Рыба жаренная в сыре',\n",
       " 'Рыба жаренная в сыре\\r\\r\\r\\r\\n(рыба хек,мука,сыр,приправа,яйцо,соль)\\r\\r\\r\\r\\n',\n",
       " 'Рыба жаренная в сыре(филе хека,сыр,яйцо)',\n",
       " 'Рыба жаренная в тесте(филе хека,яйцо,мука)\\r\\r\\r\\r\\n',\n",
       " 'Рыба жаренная по маринадом',\n",
       " 'Рыба жаренная под маринадом',\n",
       " 'Рыба жаренная под маринадом(хек,морковь,том.паста)',\n",
       " 'Рыба запеченая в фольге',\n",
       " 'Рыба запеченая с грибами',\n",
       " 'Рыба запеченная в  фольге (хек,перец,помидоры,кукуруза,сыр,майонез)',\n",
       " 'Рыба запеченная с грибами',\n",
       " 'Рыба запеченная с грибами(филе хека,шампиньоны,сыр,майонез)',\n",
       " 'Рыба под маринадом',\n",
       " 'Рыба с грибами',\n",
       " 'Рыба хек',\n",
       " 'Рыба хек ',\n",
       " 'Рыба хек   ',\n",
       " 'Рыба хек   в белках',\n",
       " 'Рыба хек   в сыре',\n",
       " 'Рыба хек  в белках',\n",
       " 'Рыба хек  в сыре',\n",
       " 'Рыба хек  жареная',\n",
       " 'Рыба хек  с грибами',\n",
       " 'Рыба хек в белках',\n",
       " 'Рыба хек в сыре',\n",
       " 'Рыба хек жареная',\n",
       " 'Рыба хек жареная ',\n",
       " 'Рыба хек жаренная',\n",
       " 'Рыба хек жаренная в тесте',\n",
       " 'Рыба хек под маринадом',\n",
       " 'Рыба хек с грибами',\n",
       " 'Рыба, жаренная под маринадом',\n",
       " 'Рыба, запеченная с грибами',\n",
       " 'Рыбные галки',\n",
       " 'Свинана с грибами',\n",
       " 'Свинина запеченая с грибами',\n",
       " 'Свинина запеченная с грибами',\n",
       " 'Свинина запеченная с сыром',\n",
       " 'Свинина по-деревенски',\n",
       " 'Свинина с  с сыром',\n",
       " 'Свинина с грибами',\n",
       " 'Свинина с грибами ',\n",
       " 'Свинина с сыром',\n",
       " 'Свинина, запеченная с сыром',\n",
       " 'Свинина,запеченная с грибами ',\n",
       " 'Сиейк из свинины',\n",
       " 'Стейк из птицы',\n",
       " 'Стейк из свинины',\n",
       " 'Стейк из свинины ',\n",
       " 'Стейк из семги',\n",
       " 'Стейк из синины',\n",
       " 'Стейк с птицы',\n",
       " 'Тефтели',\n",
       " 'Тефтели ',\n",
       " 'Тефтели \"Норвежские\" с молочным соусом',\n",
       " 'Тефтели по-норвежски',\n",
       " 'Тефтели\"Норвежские\"',\n",
       " 'Тефтели\"Норвежские\" с молочным соусом',\n",
       " 'Тефтели\"Норвежские\"с молочным соусом',\n",
       " 'Тефтели(свинина,рис,хлеб,молоко,соус том.)',\n",
       " 'Филе в белках',\n",
       " 'Филе из птицы',\n",
       " 'Филе из птицы ',\n",
       " 'Филе из птицы в сыре',\n",
       " 'Филе из птицы в сыре\\r\\r\\r\\r\\n(цыпл-бр.филе, сыр,яйцо,приправа, соль,масло раст)',\n",
       " 'Филе карпа',\n",
       " 'Филе карпа жареное',\n",
       " 'Филе птицы',\n",
       " 'Филе птицы ',\n",
       " 'Филе птицы в белках',\n",
       " 'Филе птицы в соусе',\n",
       " 'Филе птицы в сыре',\n",
       " 'Филе птицы с ананасом',\n",
       " 'Филе птицы с ананасом\\r\\r\\r\\r\\n',\n",
       " 'Филе птицы с помидором',\n",
       " 'Филе хека с овощами',\n",
       " 'Фрикасе',\n",
       " 'Фрикасе из курицы',\n",
       " 'Фрикасе(птица,перец свежий,грибы,лук)',\n",
       " 'Чахохбили',\n",
       " 'Чахохбили (птица,том.паста,лук,морковь)',\n",
       " 'Чахохбили (цыпл-бр)',\n",
       " 'Чахохбили(птица,лук,том.паста,мука,морковь)',\n",
       " 'Шницель \"Нептун\"',\n",
       " 'Шницель \"Нептун\"(филе хека,яйца,хлеб пшеничный)',\n",
       " 'Шницель \"Нептун\"(филе хека,яйцо,хлеб пшеничный)',\n",
       " 'Шницель \"Полесский\"',\n",
       " 'Шницель \"Полесский\"(птица,хлеб пшеничный,молоко,яйцо)',\n",
       " 'Шницель \"Полесский\"(птица,хлеб,молоко,яйцо)',\n",
       " 'Шницель из рыбы\"Нептун\"',\n",
       " 'Шницель из свинины',\n",
       " 'Шницель их свинины',\n",
       " 'Шницель\"Нептун\"',\n",
       " 'Шницель\"Нептун\"(филе хека,яйцо,хлеб пшеничный,специи)',\n",
       " 'Шницель\"Полесский\"',\n",
       " 'Эскало по-домашнему',\n",
       " 'Эскалоп по-домашнему',\n",
       " 'Эскалоп с  помидором',\n",
       " 'Эскалоп с помидором',\n",
       " 'Эскалоп с помидором(свинина,помидор)',\n",
       " 'Язык говяжий отварной',\n",
       " 'Язык отварной']"
      ]
     },
     "execution_count": 77,
     "metadata": {},
     "output_type": "execute_result"
    }
   ],
   "source": [
    "sorted(food)"
   ]
  },
  {
   "cell_type": "markdown",
   "metadata": {},
   "source": [
    "We need to group the above strings as there are several variants of the same dish. For example:\n",
    "\n",
    "```\n",
    "'Говядина с баклажанами и помидорами',\n",
    " 'Говядина с баклажанами и помидором',\n",
    " 'Говядина с помидорами  и баклажанами',\n",
    " 'Говядина с помидорами и баклажанам',\n",
    " 'Говядина с помидорами и баклажанами',\n",
    " 'Говядина с помидором и баклажанам',\n",
    " 'Говядина с помидором и баклажанами',\n",
    " 'Говядина с помидором и баклажаном',\n",
    " ```\n",
    " \n",
    " and possibly\n",
    " \n",
    " ```\n",
    "  'Говядина, запеченная с помидорами и бакложанами',\n",
    " 'Говядина,запеченная с помидором и баклажанами',\n",
    " ```"
   ]
  },
  {
   "cell_type": "markdown",
   "metadata": {},
   "source": [
    "Move ingredients into a new column."
   ]
  },
  {
   "cell_type": "code",
   "execution_count": 78,
   "metadata": {},
   "outputs": [],
   "source": [
    "df_date_price_weight_type_proc['FoodIngredients'] = \\\n",
    "    df_date_price_weight_type_proc.\\\n",
    "    loc[df_date_price_weight_type_proc.Type == 'Вторые блюда', 'Food'].\\\n",
    "    apply(lambda x: \",\".join(pr.ingredients_from_food(x)))"
   ]
  },
  {
   "cell_type": "markdown",
   "metadata": {},
   "source": [
    "Remove the ingrediend part from Food column."
   ]
  },
  {
   "cell_type": "code",
   "execution_count": 79,
   "metadata": {},
   "outputs": [],
   "source": [
    "df_date_price_weight_type_proc['Food'] = \\\n",
    "    df_date_price_weight_type_proc['Food'].apply(lambda x: re.sub(\"\\([^\\)]+\\)\", \"\", x))"
   ]
  },
  {
   "cell_type": "code",
   "execution_count": 80,
   "metadata": {
    "scrolled": true
   },
   "outputs": [
    {
     "data": {
      "text/html": [
       "<div>\n",
       "<style scoped>\n",
       "    .dataframe tbody tr th:only-of-type {\n",
       "        vertical-align: middle;\n",
       "    }\n",
       "\n",
       "    .dataframe tbody tr th {\n",
       "        vertical-align: top;\n",
       "    }\n",
       "\n",
       "    .dataframe thead th {\n",
       "        text-align: right;\n",
       "    }\n",
       "</style>\n",
       "<table border=\"1\" class=\"dataframe\">\n",
       "  <thead>\n",
       "    <tr style=\"text-align: right;\">\n",
       "      <th></th>\n",
       "      <th>Food</th>\n",
       "      <th>Weight</th>\n",
       "      <th>Price</th>\n",
       "      <th>Type</th>\n",
       "      <th>File</th>\n",
       "      <th>MenuDate</th>\n",
       "      <th>CostPerUnit</th>\n",
       "      <th>FoodIngredients</th>\n",
       "    </tr>\n",
       "  </thead>\n",
       "  <tbody>\n",
       "    <tr>\n",
       "      <th>3</th>\n",
       "      <td>Суп-харчо</td>\n",
       "      <td>250.0</td>\n",
       "      <td>2.05</td>\n",
       "      <td>Супы</td>\n",
       "      <td>Меню 14 января.xls</td>\n",
       "      <td>2019-01-14</td>\n",
       "      <td>0.008200</td>\n",
       "      <td>NaN</td>\n",
       "    </tr>\n",
       "    <tr>\n",
       "      <th>4</th>\n",
       "      <td>Суп картофельный с фасолью и курицей</td>\n",
       "      <td>250.0</td>\n",
       "      <td>1.58</td>\n",
       "      <td>Супы</td>\n",
       "      <td>Меню 14 января.xls</td>\n",
       "      <td>2019-01-14</td>\n",
       "      <td>0.006320</td>\n",
       "      <td>NaN</td>\n",
       "    </tr>\n",
       "    <tr>\n",
       "      <th>5</th>\n",
       "      <td>Суп-пюре из бобовых</td>\n",
       "      <td>250.0</td>\n",
       "      <td>1.70</td>\n",
       "      <td>Супы</td>\n",
       "      <td>Меню 14 января.xls</td>\n",
       "      <td>2019-01-14</td>\n",
       "      <td>0.006800</td>\n",
       "      <td>NaN</td>\n",
       "    </tr>\n",
       "    <tr>\n",
       "      <th>6</th>\n",
       "      <td>Капрезе из грудки</td>\n",
       "      <td>140.0</td>\n",
       "      <td>4.10</td>\n",
       "      <td>Вторые блюда</td>\n",
       "      <td>Меню 14 января.xls</td>\n",
       "      <td>2019-01-14</td>\n",
       "      <td>0.029286</td>\n",
       "      <td></td>\n",
       "    </tr>\n",
       "    <tr>\n",
       "      <th>7</th>\n",
       "      <td>Бифштек\"Смак\"</td>\n",
       "      <td>95.0</td>\n",
       "      <td>2.20</td>\n",
       "      <td>Вторые блюда</td>\n",
       "      <td>Меню 14 января.xls</td>\n",
       "      <td>2019-01-14</td>\n",
       "      <td>0.023158</td>\n",
       "      <td></td>\n",
       "    </tr>\n",
       "  </tbody>\n",
       "</table>\n",
       "</div>"
      ],
      "text/plain": [
       "                                   Food  Weight  Price          Type  \\\n",
       "3                             Суп-харчо   250.0   2.05          Супы   \n",
       "4  Суп картофельный с фасолью и курицей   250.0   1.58          Супы   \n",
       "5                   Суп-пюре из бобовых   250.0   1.70          Супы   \n",
       "6                     Капрезе из грудки   140.0   4.10  Вторые блюда   \n",
       "7                         Бифштек\"Смак\"    95.0   2.20  Вторые блюда   \n",
       "\n",
       "                 File   MenuDate  CostPerUnit FoodIngredients  \n",
       "3  Меню 14 января.xls 2019-01-14     0.008200             NaN  \n",
       "4  Меню 14 января.xls 2019-01-14     0.006320             NaN  \n",
       "5  Меню 14 января.xls 2019-01-14     0.006800             NaN  \n",
       "6  Меню 14 января.xls 2019-01-14     0.029286                  \n",
       "7  Меню 14 января.xls 2019-01-14     0.023158                  "
      ]
     },
     "execution_count": 80,
     "metadata": {},
     "output_type": "execute_result"
    }
   ],
   "source": [
    "df_date_price_weight_type_proc.head()"
   ]
  },
  {
   "cell_type": "markdown",
   "metadata": {},
   "source": [
    "Strip extra spaces in the texts."
   ]
  },
  {
   "cell_type": "code",
   "execution_count": 81,
   "metadata": {},
   "outputs": [],
   "source": [
    "df_date_price_weight_type_proc['Food'] = df_date_price_weight_type_proc['Food'].apply(lambda x: ' '.join(x.split()))"
   ]
  },
  {
   "cell_type": "code",
   "execution_count": 82,
   "metadata": {},
   "outputs": [],
   "source": [
    "food = df_date_price_weight_type_proc.loc[df_date_price_weight_type_proc.Type == 'Вторые блюда', 'Food'].unique().tolist()"
   ]
  },
  {
   "cell_type": "code",
   "execution_count": 83,
   "metadata": {},
   "outputs": [
    {
     "data": {
      "text/plain": [
       "259"
      ]
     },
     "execution_count": 83,
     "metadata": {},
     "output_type": "execute_result"
    }
   ],
   "source": [
    "len(food)"
   ]
  },
  {
   "cell_type": "code",
   "execution_count": 84,
   "metadata": {},
   "outputs": [
    {
     "data": {
      "text/plain": [
       "['Антрекот',\n",
       " 'Бабка картофельная',\n",
       " 'Бедро птицы жаренное',\n",
       " 'Бедро птицы жареное',\n",
       " 'Бедро птицы отварное',\n",
       " 'Бендерики с курицей',\n",
       " 'Бефстроганов из говядины',\n",
       " 'Бефстрогонов из говядины',\n",
       " 'Биточки по-белоруски',\n",
       " 'Биточки по-белорусски',\n",
       " 'Бифштек\"Смак\"',\n",
       " 'Бифштекс \"Смак\"',\n",
       " 'Бифштекс Смак',\n",
       " 'Бифштекс рубленый с луком',\n",
       " 'Бифштекс рубленый с яйцом',\n",
       " 'Бифштекс с луком',\n",
       " 'Бифштекс с яйцом',\n",
       " 'Бифштекс\"Смак\"',\n",
       " 'Блинчики с ветчиной и сыром',\n",
       " 'Блинчики с грибами и сыром',\n",
       " 'Веращака',\n",
       " 'Галки рыбные',\n",
       " 'Говядина , запеченная с помидорами и баклажанами',\n",
       " 'Говядина в кисло-сдадком соусе',\n",
       " 'Говядина в кисло-сладком соусе',\n",
       " 'Говядина зап. с пом. и баклажанами',\n",
       " 'Говядина запечая с помидором и баклажаном',\n",
       " 'Говядина отварная',\n",
       " 'Говядина отварное',\n",
       " 'Говядина с баклажанами и помидорами',\n",
       " 'Говядина с баклажанами и помидором',\n",
       " 'Говядина с помидорами и баклажанам',\n",
       " 'Говядина с помидорами и баклажанами',\n",
       " 'Говядина с помидором и баклажанам',\n",
       " 'Говядина с помидором и баклажанами',\n",
       " 'Говядина с помидором и баклажаном',\n",
       " 'Говядина, запеченная с помидорами и бакложанами',\n",
       " 'Говядина,запеченная с помидором и баклажанами',\n",
       " 'Голубцы \"Любительские\"',\n",
       " 'Голубцы овощные',\n",
       " 'Голубцы по-Раубичски',\n",
       " 'Гречаники',\n",
       " 'Грибочки под сырной шапкой',\n",
       " 'Грибочки под сырной шапкой NEW',\n",
       " 'Гуляш из говядины',\n",
       " 'Гуляш из свинины',\n",
       " 'Гуляшь из говядины',\n",
       " 'Драники с грибныи соусом',\n",
       " 'Драники с грибным соусом',\n",
       " 'Драники с грибым соусом',\n",
       " 'Драники с морковью',\n",
       " 'Жаркое по домашнему',\n",
       " 'Жаркое по-домашнему',\n",
       " 'Запеканка Капустная',\n",
       " 'Запеканка капустная',\n",
       " 'Запеканка картофельная с мясом /картофельное пюре,помидоры,яйцо,фарш мясной,майонез/',\n",
       " 'Запеканка овощаная с куриным филе',\n",
       " 'Запеканка овощная с куриным филе',\n",
       " 'Запеканка овощная с куриным филе NEW',\n",
       " 'Зразы картофельные',\n",
       " 'Зразы рубленые',\n",
       " 'Зразы рубленые с грибами',\n",
       " 'Зразы рубленые фаршированные грибами',\n",
       " 'Зразы рубленые, фаршированные грибами',\n",
       " 'Зразы рубленые,фаршированные грибами',\n",
       " 'Зразы с грибами',\n",
       " 'Зразы с рубленые',\n",
       " 'Зразы фаршированные грибами',\n",
       " 'Зразы фаршированые грибами',\n",
       " 'Кальмар фаршированный',\n",
       " 'Капрезе из грудки',\n",
       " 'Капрезо из грудки',\n",
       " 'Карпрезе из грудки',\n",
       " 'Картофельные оладьи фаршированные грибами',\n",
       " 'Картофельные оладьи, фаршированные грибами',\n",
       " 'Колбаса говяжья с грибами',\n",
       " 'Колбаса говяжья с грибами и луком',\n",
       " 'Колбаса говяжья с грибами луком',\n",
       " 'Колбаса говяжья с луком',\n",
       " 'Колбаса говяжья с луком и грибами',\n",
       " 'Колбаса из говядины с грибами и луком',\n",
       " 'Колбаса из говядины с луком и грибами',\n",
       " 'Колбаса куриная',\n",
       " 'Колбаса куриная жареная',\n",
       " 'Колбаса по-домашнему',\n",
       " 'Колбаска куриная жареная',\n",
       " 'Колбаски куриные жареные',\n",
       " 'Колбаски по-домашнему',\n",
       " 'Колбаски по-домашнему жареные',\n",
       " 'Котлета \" Нясвиж\"',\n",
       " 'Котлета \"Курочка Ряба\"',\n",
       " 'Котлета \"Любимая\"',\n",
       " 'Котлета \"Нясвиж\"',\n",
       " 'Котлета \"Папарать-Кветка\"',\n",
       " 'Котлета \"Папараць- Кветка\"',\n",
       " 'Котлета \"Папараць-Кветка\"',\n",
       " 'Котлета \"Полтавская\"',\n",
       " 'Котлета \"Праздничная\"',\n",
       " 'Котлета Курочка ряба',\n",
       " 'Котлета Любимая',\n",
       " 'Котлета Нясвиж',\n",
       " 'Котлета из птицы',\n",
       " 'Котлета из птицы \"Нясвиж\"',\n",
       " 'Котлета из птицы с тмином',\n",
       " 'Котлета из филе птицы \"Спатканне\"',\n",
       " 'Котлета из филе птицы Спатканне',\n",
       " 'Котлета из филе птицы фаршированное печенью',\n",
       " 'Котлета из филе птицы\"Спатканне\"',\n",
       " 'Котлета по-киевски',\n",
       " 'Котлета по-киески',\n",
       " 'Котлета рубленая из птицы',\n",
       " 'Котлета рубленная из птицы',\n",
       " 'Котлета рубленная с тмином',\n",
       " 'Котлета рубленные из птицы',\n",
       " 'Котлета рыбная \"Нежность\"',\n",
       " 'Котлета рыбная\"Нежность\"',\n",
       " 'Котлета с сыром и морковью',\n",
       " 'Котлета\"Вечарница\"',\n",
       " 'Котлета\"Курочка Ряба\"',\n",
       " 'Котлета\"Курочка ряба\"',\n",
       " 'Котлета\"Любимая\"',\n",
       " 'Котлета\"Любительская\"',\n",
       " 'Котлета\"Папарать-Кветка\"',\n",
       " 'Котлета\"Папарать-кветка\"',\n",
       " 'Котлета\"Полтавская\"',\n",
       " 'Котлета\"Праздничная\"',\n",
       " 'Котлета, рубленная из птицы',\n",
       " 'Котлеты \"Вечарница\"',\n",
       " 'Котлеты \"Любительские\"',\n",
       " 'Котлеты \"Полтавские\"',\n",
       " 'Котлеты из птицы',\n",
       " 'Котлеты из птицы с тмином',\n",
       " 'Котлеты рубленные из птицы',\n",
       " 'Котлеты рубленые из птицы',\n",
       " 'Котлеты с сыром и морковью',\n",
       " 'Котлеты\"Любимая\"',\n",
       " 'Котлеты\"Любительские\"',\n",
       " 'Котлеты\"Полтавские\"',\n",
       " 'Крылышки барбекю',\n",
       " 'Куриная грудка в беконе',\n",
       " 'Куриные ножки в меду',\n",
       " 'Куриный конверт с ананасом',\n",
       " 'Курица \"Сытная\"',\n",
       " 'Курица запеченая \"Сытная\"',\n",
       " 'Курица запеченная \"Сытная\"',\n",
       " 'Курица отварная',\n",
       " 'Курица\"Сытная\"',\n",
       " 'Лазанья',\n",
       " 'Лазанья мясная',\n",
       " 'Мачанка с блинами',\n",
       " 'Мочанка с блинами',\n",
       " 'Мясо отварное',\n",
       " 'Мясо отварное/свинина/',\n",
       " 'Мясо по-осеннему',\n",
       " 'Мясо по-французки',\n",
       " 'Мясо по-французски',\n",
       " 'Ножки куриные в меду',\n",
       " 'Ножки куриные фаршированные',\n",
       " 'Ножки куриные фаршированные NEW',\n",
       " 'Оладьи картофельные с грибами',\n",
       " 'Оладьи картофельные с мясом',\n",
       " 'Оладьи картофельные фаршированные мясом',\n",
       " 'Оладьи картофельные, фаршированные мясом',\n",
       " 'Печень говяжья с луком',\n",
       " 'Печень говяжья, жаренная с луком',\n",
       " 'Печень говяжя с луком',\n",
       " 'Печень жаренная в соусе',\n",
       " 'Печень жаренная с луком',\n",
       " 'Печень куриная в соусе',\n",
       " 'Печень куриная жареная с луком',\n",
       " 'Печень куриная с луком',\n",
       " 'Печень по-строгановски',\n",
       " 'Печень по-строгоновски',\n",
       " 'Плов по-узбекски',\n",
       " 'Плов со свининой',\n",
       " 'Плоджарка\"Любительская\"',\n",
       " 'Поджарка \"Любительская\"',\n",
       " 'Поджарка\"Любительская\"',\n",
       " 'Птица в тесте',\n",
       " 'Рагу из овощей',\n",
       " 'Ромштекс',\n",
       " 'Рулетики из птицы в горчично-сливочном соусе',\n",
       " 'Рыба в белках',\n",
       " 'Рыба в сыре',\n",
       " 'Рыба в тесте',\n",
       " 'Рыба жареная в белках',\n",
       " 'Рыба жареная в сыре',\n",
       " 'Рыба жареная в тесте',\n",
       " 'Рыба жаренная в белках',\n",
       " 'Рыба жаренная в сыре',\n",
       " 'Рыба жаренная в тесте',\n",
       " 'Рыба жаренная по маринадом',\n",
       " 'Рыба жаренная под маринадом',\n",
       " 'Рыба запеченая в фольге',\n",
       " 'Рыба запеченая с грибами',\n",
       " 'Рыба запеченная в фольге',\n",
       " 'Рыба запеченная с грибами',\n",
       " 'Рыба под маринадом',\n",
       " 'Рыба с грибами',\n",
       " 'Рыба хек',\n",
       " 'Рыба хек в белках',\n",
       " 'Рыба хек в сыре',\n",
       " 'Рыба хек жареная',\n",
       " 'Рыба хек жаренная',\n",
       " 'Рыба хек жаренная в тесте',\n",
       " 'Рыба хек под маринадом',\n",
       " 'Рыба хек с грибами',\n",
       " 'Рыба, жаренная под маринадом',\n",
       " 'Рыба, запеченная с грибами',\n",
       " 'Рыбные галки',\n",
       " 'Свинана с грибами',\n",
       " 'Свинина запеченая с грибами',\n",
       " 'Свинина запеченная с грибами',\n",
       " 'Свинина запеченная с сыром',\n",
       " 'Свинина по-деревенски',\n",
       " 'Свинина с грибами',\n",
       " 'Свинина с с сыром',\n",
       " 'Свинина с сыром',\n",
       " 'Свинина, запеченная с сыром',\n",
       " 'Свинина,запеченная с грибами',\n",
       " 'Сиейк из свинины',\n",
       " 'Стейк из птицы',\n",
       " 'Стейк из свинины',\n",
       " 'Стейк из семги',\n",
       " 'Стейк из синины',\n",
       " 'Стейк с птицы',\n",
       " 'Тефтели',\n",
       " 'Тефтели \"Норвежские\" с молочным соусом',\n",
       " 'Тефтели по-норвежски',\n",
       " 'Тефтели\"Норвежские\"',\n",
       " 'Тефтели\"Норвежские\" с молочным соусом',\n",
       " 'Тефтели\"Норвежские\"с молочным соусом',\n",
       " 'Филе в белках',\n",
       " 'Филе из птицы',\n",
       " 'Филе из птицы в сыре',\n",
       " 'Филе карпа',\n",
       " 'Филе карпа жареное',\n",
       " 'Филе птицы',\n",
       " 'Филе птицы в белках',\n",
       " 'Филе птицы в соусе',\n",
       " 'Филе птицы в сыре',\n",
       " 'Филе птицы с ананасом',\n",
       " 'Филе птицы с помидором',\n",
       " 'Филе хека с овощами',\n",
       " 'Фрикасе',\n",
       " 'Фрикасе из курицы',\n",
       " 'Чахохбили',\n",
       " 'Шницель \"Нептун\"',\n",
       " 'Шницель \"Полесский\"',\n",
       " 'Шницель из рыбы\"Нептун\"',\n",
       " 'Шницель из свинины',\n",
       " 'Шницель их свинины',\n",
       " 'Шницель\"Нептун\"',\n",
       " 'Шницель\"Полесский\"',\n",
       " 'Эскало по-домашнему',\n",
       " 'Эскалоп по-домашнему',\n",
       " 'Эскалоп с помидором',\n",
       " 'Язык говяжий отварной',\n",
       " 'Язык отварной']"
      ]
     },
     "execution_count": 84,
     "metadata": {},
     "output_type": "execute_result"
    }
   ],
   "source": [
    "sorted(food)"
   ]
  },
  {
   "cell_type": "code",
   "execution_count": 85,
   "metadata": {},
   "outputs": [
    {
     "data": {
      "text/plain": [
       "Food                       object\n",
       "Weight                    float64\n",
       "Price                     float64\n",
       "Type                       object\n",
       "File                       object\n",
       "MenuDate           datetime64[ns]\n",
       "CostPerUnit               float64\n",
       "FoodIngredients            object\n",
       "dtype: object"
      ]
     },
     "execution_count": 85,
     "metadata": {},
     "output_type": "execute_result"
    }
   ],
   "source": [
    "df_date_price_weight_type_proc.dtypes"
   ]
  },
  {
   "cell_type": "code",
   "execution_count": 86,
   "metadata": {},
   "outputs": [
    {
     "data": {
      "image/png": "[encoded data removed]",
      "text/plain": [
       "<Figure size 1224x648 with 1 Axes>"
      ]
     },
     "metadata": {
      "needs_background": "light"
     },
     "output_type": "display_data"
    }
   ],
   "source": [
    "df_date_price_weight_type_proc[df_date_price_weight_type_proc.Food == 'Антрекот'].\\\n",
    "    plot(x='MenuDate', y='Price', figsize=(17, 9),);"
   ]
  },
  {
   "cell_type": "markdown",
   "metadata": {},
   "source": [
    "#### Гарниры"
   ]
  },
  {
   "cell_type": "code",
   "execution_count": 87,
   "metadata": {},
   "outputs": [
    {
     "data": {
      "text/plain": [
       "Гречка отварная                       156\n",
       "Каша пшенная                          147\n",
       "Спагетти                              133\n",
       "Рис отварной                          116\n",
       "Картофель отварной                    112\n",
       "                                     ... \n",
       "Рис\" Мозаика\"                           1\n",
       "Картофельотварной с укропом             1\n",
       "Картофель жаренный                      1\n",
       "Картофельные дольки с чесноком          1\n",
       "Картофельжареный с грибами и луком      1\n",
       "Name: Food, Length: 84, dtype: int64"
      ]
     },
     "execution_count": 87,
     "metadata": {},
     "output_type": "execute_result"
    }
   ],
   "source": [
    "df_date_price_weight_type_proc.loc[df_date_price_weight_type_proc.Type == 'Гарниры', 'Food'].value_counts()"
   ]
  },
  {
   "cell_type": "code",
   "execution_count": 88,
   "metadata": {},
   "outputs": [],
   "source": [
    "food = df_date_price_weight_type_proc.loc[df_date_price_weight_type_proc.Type == 'Гарниры', 'Food'].unique().tolist()"
   ]
  },
  {
   "cell_type": "code",
   "execution_count": 89,
   "metadata": {},
   "outputs": [
    {
     "data": {
      "text/plain": [
       "84"
      ]
     },
     "execution_count": 89,
     "metadata": {},
     "output_type": "execute_result"
    }
   ],
   "source": [
    "len(food)"
   ]
  },
  {
   "cell_type": "code",
   "execution_count": 90,
   "metadata": {},
   "outputs": [
    {
     "data": {
      "text/plain": [
       "['Брокколи',\n",
       " 'Брокколи,цветная капуста',\n",
       " 'Гречка отварная',\n",
       " 'Кабачки жареные',\n",
       " 'Капуста брокколи',\n",
       " 'Капуста брокколи и цветная',\n",
       " 'Капуста броколи',\n",
       " 'Капуста броколли',\n",
       " 'Капуста тушеная',\n",
       " 'Капуста тушеная с грибами',\n",
       " 'Капуста тушенная',\n",
       " 'Капуста тушенная с грибами',\n",
       " 'Капуста тушонная',\n",
       " 'Капуста цветная в сухарях',\n",
       " 'Капуста цветная и брокколи',\n",
       " 'Капуста цыетная в сухарях',\n",
       " 'Капуста, тушенная с грибами',\n",
       " 'Картофель жаренные сгибами и луком',\n",
       " 'Картофель жаренный',\n",
       " 'Картофель жаренный из варенного',\n",
       " 'Картофель жаренный из отварного',\n",
       " 'Картофель жаренный с грибами',\n",
       " 'Картофель жаренный с грибами и луком',\n",
       " 'Картофель жареный из отварного',\n",
       " 'Картофель жареный с гриб и лук',\n",
       " 'Картофель жареный с грибами',\n",
       " 'Картофель жареный с грибами и луком',\n",
       " 'Картофель отв. с укропом',\n",
       " 'Картофель отварной',\n",
       " 'Картофель отварной с укропом',\n",
       " 'Картофель с грибами',\n",
       " 'Картофель с грибами и луком',\n",
       " 'Картофель фри',\n",
       " 'Картофель, жаренный из вареного',\n",
       " 'Картофель, жаренный с гибами и луком',\n",
       " 'Картофель, жаренный с грибами и луком',\n",
       " 'Картофельжаренный с грибами и луком',\n",
       " 'Картофельжареный с грибами и луком',\n",
       " 'Картофельное пюре',\n",
       " 'Картофельные дольки',\n",
       " 'Картофельные дольки жареные',\n",
       " 'Картофельные дольки маринованные',\n",
       " 'Картофельные дольки с чесноком',\n",
       " 'Картофельотварной с укропом',\n",
       " 'Каша перловая',\n",
       " 'Каша перловая с грибами и луком',\n",
       " 'Каша перловая с грудинкой',\n",
       " 'Каша перловая с грудинкой и луком',\n",
       " 'Каша перловая с луком и грудинкой',\n",
       " 'Каша пшеная',\n",
       " 'Каша пшенная',\n",
       " 'Каша пшонная',\n",
       " 'Каша пшрнная',\n",
       " 'Лапша',\n",
       " 'Макароны',\n",
       " 'Макароны отварные',\n",
       " 'Овощи припущенные',\n",
       " 'Овощи припущеные',\n",
       " 'Овощи припущеные в сл. соусе',\n",
       " 'Овощи прупущенные',\n",
       " 'Овощи тушеные',\n",
       " 'Овощной микс',\n",
       " 'Пшенник',\n",
       " 'Рагу из овощей',\n",
       " 'Рис',\n",
       " 'Рис \"Мазайка\"',\n",
       " 'Рис \"Мозаика\"',\n",
       " 'Рис \"Светофор\"',\n",
       " 'Рис отварной',\n",
       " 'Рис\" Мозаика\"',\n",
       " 'Рис\" Мозайка \"',\n",
       " 'Рис\" Светофор\"',\n",
       " 'Рис\"Мозаика\"',\n",
       " 'Рис\"Светофор\"',\n",
       " 'Спагетти',\n",
       " 'Фасоль и мини морковь',\n",
       " 'Фасоль стручковая',\n",
       " 'Фасоль стручковая, и мини морковь',\n",
       " 'Фасоль стручковая,мини морковь',\n",
       " 'Фосоль и мини морковь',\n",
       " 'Цветная капуста в сухарях',\n",
       " 'рис отварной',\n",
       " 'фасоль стручковая',\n",
       " 'фасоль, и мини морковь']"
      ]
     },
     "execution_count": 90,
     "metadata": {},
     "output_type": "execute_result"
    }
   ],
   "source": [
    "sorted(food)"
   ]
  },
  {
   "cell_type": "code",
   "execution_count": 91,
   "metadata": {},
   "outputs": [
    {
     "data": {
      "image/png": "[encoded data removed]",
      "text/plain": [
       "<Figure size 1224x648 with 1 Axes>"
      ]
     },
     "metadata": {
      "needs_background": "light"
     },
     "output_type": "display_data"
    }
   ],
   "source": [
    "df_date_price_weight_type_proc[df_date_price_weight_type_proc.Food == 'Гречка отварная'].\\\n",
    "    plot(x='MenuDate', y='Price', figsize=(17, 9),);"
   ]
  },
  {
   "cell_type": "code",
   "execution_count": 92,
   "metadata": {},
   "outputs": [
    {
     "data": {
      "image/png": "[encoded data removed]",
      "text/plain": [
       "<Figure size 1224x648 with 1 Axes>"
      ]
     },
     "metadata": {
      "needs_background": "light"
     },
     "output_type": "display_data"
    }
   ],
   "source": [
    "df_date_price_weight_type_proc[df_date_price_weight_type_proc.Food == 'Спагетти'].\\\n",
    "    plot(x='MenuDate', y='Price', figsize=(17, 9),);"
   ]
  },
  {
   "cell_type": "code",
   "execution_count": 93,
   "metadata": {},
   "outputs": [
    {
     "data": {
      "image/png": "[encoded data removed]",
      "text/plain": [
       "<Figure size 1224x648 with 1 Axes>"
      ]
     },
     "metadata": {
      "needs_background": "light"
     },
     "output_type": "display_data"
    }
   ],
   "source": [
    "df_date_price_weight_type_proc[df_date_price_weight_type_proc.Food == 'Картофель отварной'].\\\n",
    "    plot(x='MenuDate', y='Price', figsize=(17, 9),);"
   ]
  },
  {
   "cell_type": "code",
   "execution_count": 94,
   "metadata": {},
   "outputs": [
    {
     "data": {
      "text/plain": [
       "['Брокколи',\n",
       " 'Брокколи,цветная капуста',\n",
       " 'Гречка отварная',\n",
       " 'Кабачки жареные',\n",
       " 'Капуста брокколи',\n",
       " 'Капуста брокколи и цветная',\n",
       " 'Капуста броколи',\n",
       " 'Капуста броколли',\n",
       " 'Капуста тушеная',\n",
       " 'Капуста тушеная с грибами',\n",
       " 'Капуста тушенная',\n",
       " 'Капуста тушенная с грибами',\n",
       " 'Капуста тушонная',\n",
       " 'Капуста цветная в сухарях',\n",
       " 'Капуста цветная и брокколи',\n",
       " 'Капуста цыетная в сухарях',\n",
       " 'Капуста, тушенная с грибами',\n",
       " 'Картофель жаренные сгибами и луком',\n",
       " 'Картофель жаренный',\n",
       " 'Картофель жаренный из варенного']"
      ]
     },
     "execution_count": 94,
     "metadata": {},
     "output_type": "execute_result"
    }
   ],
   "source": [
    "sorted(food)[:20]"
   ]
  },
  {
   "cell_type": "code",
   "execution_count": null,
   "metadata": {},
   "outputs": [],
   "source": []
  }
 ],
 "metadata": {
  "kernelspec": {
   "display_name": "Python 3",
   "language": "python",
   "name": "python3"
  },
  "language_info": {
   "codemirror_mode": {
    "name": "ipython",
    "version": 3
   },
   "file_extension": ".py",
   "mimetype": "text/x-python",
   "name": "python",
   "nbconvert_exporter": "python",
   "pygments_lexer": "ipython3",
   "version": "3.8.0"
  },
  "toc": {
   "base_numbering": 1,
   "nav_menu": {},
   "number_sections": true,
   "sideBar": true,
   "skip_h1_title": false,
   "title_cell": "Table of Contents",
   "title_sidebar": "Contents",
   "toc_cell": true,
   "toc_position": {
    "height": "calc(100% - 180px)",
    "left": "10px",
    "top": "150px",
    "width": "238.625px"
   },
   "toc_section_display": true,
   "toc_window_display": true
  }
 },
 "nbformat": 4,
 "nbformat_minor": 2
}
